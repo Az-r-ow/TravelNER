{
 "cells": [
  {
   "cell_type": "markdown",
   "metadata": {},
   "source": [
    "# Hidden Markov Model for NER\n"
   ]
  },
  {
   "cell_type": "code",
   "execution_count": 89,
   "metadata": {},
   "outputs": [],
   "source": [
    "from app.travel_resolver.libs.nlp.data_processing import from_bio_file_to_examples\n",
    "\n",
    "BIO_FILE = \"data/bio/fr.bio/1k_samples.bio\"\n",
    "\n",
    "sentences, labels, vocab, unique_labels = from_bio_file_to_examples(\n",
    "    BIO_FILE, process_sentence=True\n",
    ")"
   ]
  },
  {
   "cell_type": "markdown",
   "metadata": {},
   "source": [
    "Splitting the data between **training** and **test** set. We will do an `80/20` split.\n"
   ]
  },
  {
   "cell_type": "code",
   "execution_count": 90,
   "metadata": {},
   "outputs": [],
   "source": [
    "from sklearn.model_selection import train_test_split\n",
    "\n",
    "train_sentences, test_sentences, y_train, y_test = train_test_split(\n",
    "    sentences, labels, test_size=0.2\n",
    ")"
   ]
  },
  {
   "cell_type": "code",
   "execution_count": 91,
   "metadata": {},
   "outputs": [],
   "source": [
    "def t2_given_t1(\n",
    "    t2: str | int,\n",
    "    t1: str | int,\n",
    "    train_bag=y_train,\n",
    "    unique_labels_mapping: dict = unique_labels,\n",
    "):\n",
    "    \"\"\"\n",
    "    Get the probability of getting t2 given t1 in the given labels\n",
    "\n",
    "    Args:\n",
    "      t2: str | int, the second tag\n",
    "      t1: str | int, the first tag\n",
    "      train_bag: list, the list of labels\n",
    "\n",
    "    Returns:\n",
    "      float, the probability of getting t2 given t1\n",
    "    \"\"\"\n",
    "    t1 = t1 if isinstance(t1, int) else unique_labels_mapping[t1]\n",
    "    t2 = t2 if isinstance(t2, int) else unique_labels_mapping[t2]\n",
    "    count_t1 = 0\n",
    "    count_t2_t1 = 0\n",
    "    for row in train_bag:\n",
    "        for index in range(len(row) - 1):\n",
    "            if row[index] == t1:\n",
    "                count_t1 += 1\n",
    "            if row[index] == t1 and row[index + 1] == t2:\n",
    "                count_t2_t1 += 1\n",
    "    return count_t2_t1 / count_t1"
   ]
  },
  {
   "cell_type": "markdown",
   "metadata": {},
   "source": [
    "In the next part, we will be getting the **transition matrix** which represents the _probability_ of transitioning from a state to another $P(S_2 | S_1)$. In our case it would be for example $P(O | \\text{ARR-LOC})$.\n"
   ]
  },
  {
   "cell_type": "code",
   "execution_count": 92,
   "metadata": {},
   "outputs": [
    {
     "data": {
      "text/plain": [
       "array([[0.81087719, 0.93079585, 0.92783505],\n",
       "       [0.09438596, 0.06920415, 0.        ],\n",
       "       [0.09473684, 0.        , 0.07216495]])"
      ]
     },
     "execution_count": 92,
     "metadata": {},
     "output_type": "execute_result"
    }
   ],
   "source": [
    "import numpy as np\n",
    "\n",
    "tags = list(unique_labels.keys())\n",
    "n_tags = len(tags)\n",
    "\n",
    "trans_matrix = np.zeros((n_tags, n_tags))\n",
    "\n",
    "for t1 in range(n_tags):\n",
    "    for t2 in range(n_tags):\n",
    "        trans_matrix[t1][t2] = t2_given_t1(tags[t1], tags[t2])\n",
    "\n",
    "trans_matrix"
   ]
  },
  {
   "cell_type": "code",
   "execution_count": 93,
   "metadata": {},
   "outputs": [
    {
     "data": {
      "text/html": [
       "<div>\n",
       "<style scoped>\n",
       "    .dataframe tbody tr th:only-of-type {\n",
       "        vertical-align: middle;\n",
       "    }\n",
       "\n",
       "    .dataframe tbody tr th {\n",
       "        vertical-align: top;\n",
       "    }\n",
       "\n",
       "    .dataframe thead th {\n",
       "        text-align: right;\n",
       "    }\n",
       "</style>\n",
       "<table border=\"1\" class=\"dataframe\">\n",
       "  <thead>\n",
       "    <tr style=\"text-align: right;\">\n",
       "      <th></th>\n",
       "      <th>O</th>\n",
       "      <th>LOC-ARR</th>\n",
       "      <th>LOC-DEP</th>\n",
       "    </tr>\n",
       "  </thead>\n",
       "  <tbody>\n",
       "    <tr>\n",
       "      <th>O</th>\n",
       "      <td>0.810877</td>\n",
       "      <td>0.930796</td>\n",
       "      <td>0.927835</td>\n",
       "    </tr>\n",
       "    <tr>\n",
       "      <th>LOC-ARR</th>\n",
       "      <td>0.094386</td>\n",
       "      <td>0.069204</td>\n",
       "      <td>0.000000</td>\n",
       "    </tr>\n",
       "    <tr>\n",
       "      <th>LOC-DEP</th>\n",
       "      <td>0.094737</td>\n",
       "      <td>0.000000</td>\n",
       "      <td>0.072165</td>\n",
       "    </tr>\n",
       "  </tbody>\n",
       "</table>\n",
       "</div>"
      ],
      "text/plain": [
       "                O   LOC-ARR   LOC-DEP\n",
       "O        0.810877  0.930796  0.927835\n",
       "LOC-ARR  0.094386  0.069204  0.000000\n",
       "LOC-DEP  0.094737  0.000000  0.072165"
      ]
     },
     "execution_count": 93,
     "metadata": {},
     "output_type": "execute_result"
    }
   ],
   "source": [
    "import pandas as pd\n",
    "\n",
    "trans_matrix_df = pd.DataFrame(trans_matrix, columns=tags, index=tags)\n",
    "\n",
    "trans_matrix_df"
   ]
  },
  {
   "cell_type": "code",
   "execution_count": 94,
   "metadata": {},
   "outputs": [
    {
     "data": {
      "image/png": "[encoded data removed]",
      "text/plain": [
       "<Figure size 800x500 with 2 Axes>"
      ]
     },
     "metadata": {},
     "output_type": "display_data"
    }
   ],
   "source": [
    "%matplotlib inline\n",
    "\n",
    "import matplotlib.pyplot as plt\n",
    "import seaborn as sns\n",
    "\n",
    "plt.figure(figsize=(8, 5))\n",
    "\n",
    "sns.set(font_scale=1.2)\n",
    "\n",
    "sns.heatmap(trans_matrix_df, annot=True, square=True, annot_kws={\"fontsize\": 12})\n",
    "\n",
    "plt.title(\"Transition Matrix\")\n",
    "\n",
    "plt.show()"
   ]
  },
  {
   "cell_type": "code",
   "execution_count": 160,
   "metadata": {},
   "outputs": [],
   "source": [
    "def get_emission_prob_dict(\n",
    "    sentences: list[str] = train_sentences,\n",
    "    labels: list[int] = y_train,\n",
    "    tags: dict = unique_labels,\n",
    "):\n",
    "    \"\"\"\n",
    "    Given a bunch of sentences and their labels, get the emission probability of each word given each tag\n",
    "\n",
    "    Parameters:\n",
    "    sentences (list): The list of sentences\n",
    "    labels (list): The list of labels\n",
    "    tags (dict): The dictionary of tags\n",
    "\n",
    "    Returns:\n",
    "    dict: The dictionary of emission probabilities\n",
    "    \"\"\"\n",
    "    tags = list(tags.keys())\n",
    "    word_label_count = {}\n",
    "    tag_count = {tag: 0 for tag in tags}\n",
    "    for i in range(len(sentences)):\n",
    "        for word, label in zip(sentences[i].split(\" \"), labels[i]):\n",
    "            if word not in word_label_count:\n",
    "                word_label_count[word] = {tag: 0 for tag in tags}\n",
    "            word_label_count[word][tags[label]] += 1\n",
    "            tag_count[tags[label]] += 1\n",
    "\n",
    "    for word in word_label_count:\n",
    "        for tag in word_label_count[word]:\n",
    "            if word_label_count[word][tag] == 0:\n",
    "                word_label_count[word][tag] = 0\n",
    "                continue\n",
    "            word_label_count[word][tag] /= tag_count[tag]\n",
    "\n",
    "        sum_probs = sum(word_label_count[word].values())\n",
    "\n",
    "        if sum_probs > 1:\n",
    "            print(f\"Sum of probabilities for word {word} is {sum_probs}\")\n",
    "\n",
    "    word_label_count[\"<UNK>\"] = {tag: 0 for tag in tags}\n",
    "    return word_label_count"
   ]
  },
  {
   "cell_type": "code",
   "execution_count": 161,
   "metadata": {},
   "outputs": [
    {
     "data": {
      "text/html": [
       "<div>\n",
       "<style scoped>\n",
       "    .dataframe tbody tr th:only-of-type {\n",
       "        vertical-align: middle;\n",
       "    }\n",
       "\n",
       "    .dataframe tbody tr th {\n",
       "        vertical-align: top;\n",
       "    }\n",
       "\n",
       "    .dataframe thead th {\n",
       "        text-align: right;\n",
       "    }\n",
       "</style>\n",
       "<table border=\"1\" class=\"dataframe\">\n",
       "  <thead>\n",
       "    <tr style=\"text-align: right;\">\n",
       "      <th></th>\n",
       "      <th>O</th>\n",
       "      <th>LOC-ARR</th>\n",
       "      <th>LOC-DEP</th>\n",
       "    </tr>\n",
       "  </thead>\n",
       "  <tbody>\n",
       "    <tr>\n",
       "      <th>j'ai</th>\n",
       "      <td>0.004706</td>\n",
       "      <td>0.0</td>\n",
       "      <td>0.000000</td>\n",
       "    </tr>\n",
       "    <tr>\n",
       "      <th>besoin</th>\n",
       "      <td>0.004706</td>\n",
       "      <td>0.0</td>\n",
       "      <td>0.000000</td>\n",
       "    </tr>\n",
       "    <tr>\n",
       "      <th>d'un</th>\n",
       "      <td>0.001818</td>\n",
       "      <td>0.0</td>\n",
       "      <td>0.000000</td>\n",
       "    </tr>\n",
       "    <tr>\n",
       "      <th>itinérair</th>\n",
       "      <td>0.014333</td>\n",
       "      <td>0.0</td>\n",
       "      <td>0.000000</td>\n",
       "    </tr>\n",
       "    <tr>\n",
       "      <th>qui</th>\n",
       "      <td>0.002246</td>\n",
       "      <td>0.0</td>\n",
       "      <td>0.000000</td>\n",
       "    </tr>\n",
       "    <tr>\n",
       "      <th>me</th>\n",
       "      <td>0.021393</td>\n",
       "      <td>0.0</td>\n",
       "      <td>0.000000</td>\n",
       "    </tr>\n",
       "    <tr>\n",
       "      <th>permet</th>\n",
       "      <td>0.002246</td>\n",
       "      <td>0.0</td>\n",
       "      <td>0.000000</td>\n",
       "    </tr>\n",
       "    <tr>\n",
       "      <th>de</th>\n",
       "      <td>0.108996</td>\n",
       "      <td>0.0</td>\n",
       "      <td>0.001145</td>\n",
       "    </tr>\n",
       "    <tr>\n",
       "      <th>rendr</th>\n",
       "      <td>0.013370</td>\n",
       "      <td>0.0</td>\n",
       "      <td>0.000000</td>\n",
       "    </tr>\n",
       "    <tr>\n",
       "      <th>gorg</th>\n",
       "      <td>0.000000</td>\n",
       "      <td>0.0</td>\n",
       "      <td>0.001145</td>\n",
       "    </tr>\n",
       "  </tbody>\n",
       "</table>\n",
       "</div>"
      ],
      "text/plain": [
       "                  O  LOC-ARR   LOC-DEP\n",
       "j'ai       0.004706      0.0  0.000000\n",
       "besoin     0.004706      0.0  0.000000\n",
       "d'un       0.001818      0.0  0.000000\n",
       "itinérair  0.014333      0.0  0.000000\n",
       "qui        0.002246      0.0  0.000000\n",
       "me         0.021393      0.0  0.000000\n",
       "permet     0.002246      0.0  0.000000\n",
       "de         0.108996      0.0  0.001145\n",
       "rendr      0.013370      0.0  0.000000\n",
       "gorg       0.000000      0.0  0.001145"
      ]
     },
     "execution_count": 161,
     "metadata": {},
     "output_type": "execute_result"
    }
   ],
   "source": [
    "em_prob_dict = get_emission_prob_dict()\n",
    "\n",
    "em_prob_df = pd.DataFrame(em_prob_dict).T\n",
    "\n",
    "em_prob_df.head(10)"
   ]
  },
  {
   "cell_type": "code",
   "execution_count": 162,
   "metadata": {},
   "outputs": [],
   "source": [
    "em_prob = em_prob_df.to_numpy()"
   ]
  },
  {
   "cell_type": "code",
   "execution_count": 172,
   "metadata": {},
   "outputs": [
    {
     "data": {
      "image/png": "[encoded data removed]",
      "text/plain": [
       "<Figure size 500x500 with 1 Axes>"
      ]
     },
     "metadata": {},
     "output_type": "display_data"
    }
   ],
   "source": [
    "import random\n",
    "\n",
    "fig = plt.figure(figsize=(5, 5))\n",
    "ax = fig.add_subplot(projection=\"3d\")\n",
    "\n",
    "xx = em_prob[:, 0]\n",
    "yy = em_prob[:, 1]\n",
    "zz = em_prob[:, 2]\n",
    "\n",
    "xlabel = list(em_prob_df.columns)[0]\n",
    "ylabel = list(em_prob_df.columns)[1]\n",
    "zlabel = list(em_prob_df.columns)[2]\n",
    "\n",
    "x_count = 0\n",
    "y_count = 0\n",
    "z_count = 0\n",
    "n_notation = 3\n",
    "\n",
    "# todo: fix the notations by changing the threshold\n",
    "for i in range(len(zz)):\n",
    "    h = random.choice([\"center\", \"right\", \"left\"])\n",
    "    v = random.choice([\"center\", \"bottom\", \"top\", \"baseline\"])\n",
    "    if x_count == n_notation and y_count == n_notation and z_count == n_notation:\n",
    "        break\n",
    "    if xx[i] > 0.99 and x_count < n_notation:\n",
    "        ax.text(xx[i], yy[i], zz[i], em_prob_df.index[i], fontsize=12, ha=h, va=v)\n",
    "        x_count += 1\n",
    "    if yy[i] > 0.99 and y_count < n_notation:\n",
    "        ax.text(xx[i], yy[i], zz[i], em_prob_df.index[i], fontsize=12, ha=h, va=v)\n",
    "        y_count += 1\n",
    "    if zz[i] > 0.99 and z_count < n_notation:\n",
    "        ax.text(\n",
    "            xx[i] + 0.01,\n",
    "            yy[i] + 0.01,\n",
    "            zz[i] + 0.01,\n",
    "            em_prob_df.index[i],\n",
    "            fontsize=12,\n",
    "            ha=h,\n",
    "            va=v,\n",
    "        )\n",
    "        z_count += 1\n",
    "\n",
    "\n",
    "ax.scatter(xx, yy, zz)\n",
    "\n",
    "ax.set_xlabel(xlabel)\n",
    "ax.set_ylabel(ylabel)\n",
    "ax.set_zlabel(zlabel)\n",
    "\n",
    "plt.show()"
   ]
  },
  {
   "cell_type": "code",
   "execution_count": 173,
   "metadata": {},
   "outputs": [],
   "source": [
    "def get_start_prob(labels: list[int] = y_train, tags: dict = unique_labels):\n",
    "    \"\"\"\n",
    "    Get the start probability of each tag\n",
    "\n",
    "    Parameters:\n",
    "    labels (list): The list of labels\n",
    "    tags (dict): The dictionary of tags\n",
    "\n",
    "    Returns:\n",
    "    dict: The dictionary of start probabilities\n",
    "    \"\"\"\n",
    "    tags = list(tags.keys())\n",
    "    start_prob = {tag: 0 for tag in tags}\n",
    "    for label in labels:\n",
    "        start_prob[tags[label[0]]] += 1\n",
    "    total_count = sum(start_prob.values())\n",
    "    for tag in start_prob:\n",
    "        start_prob[tag] /= total_count\n",
    "    return start_prob"
   ]
  },
  {
   "cell_type": "code",
   "execution_count": 174,
   "metadata": {},
   "outputs": [
    {
     "data": {
      "text/plain": [
       "array([1., 0., 0.])"
      ]
     },
     "execution_count": 174,
     "metadata": {},
     "output_type": "execute_result"
    }
   ],
   "source": [
    "startprob = get_start_prob()\n",
    "\n",
    "startprob = np.array(list(startprob.values()))\n",
    "\n",
    "startprob"
   ]
  },
  {
   "cell_type": "markdown",
   "metadata": {},
   "source": [
    "Since we already have the model parameters, we don't need to use the automatic model estimation with `fit()`. Therefore, we will pass the probabilities directly to the model and move on to the predictions.\n"
   ]
  },
  {
   "cell_type": "code",
   "execution_count": 183,
   "metadata": {},
   "outputs": [],
   "source": [
    "from hmmlearn.hmm import CategoricalHMM\n",
    "\n",
    "vocab = list(em_prob_dict.keys())\n",
    "\n",
    "hmm = CategoricalHMM(n_components=n_tags, n_iter=100)\n",
    "\n",
    "hmm.n_features = len(vocab)\n",
    "hmm.startprob_ = startprob\n",
    "hmm.transmat_ = trans_matrix.T\n",
    "hmm.emissionprob_ = em_prob.T"
   ]
  },
  {
   "cell_type": "code",
   "execution_count": 185,
   "metadata": {},
   "outputs": [
    {
     "data": {
      "text/plain": [
       "(3, 1344)"
      ]
     },
     "execution_count": 185,
     "metadata": {},
     "output_type": "execute_result"
    }
   ],
   "source": [
    "em_prob.T.shape"
   ]
  },
  {
   "cell_type": "code",
   "execution_count": 188,
   "metadata": {},
   "outputs": [],
   "source": [
    "def encode_sentence(sentence: str, vocab: list[str]):\n",
    "    \"\"\"\n",
    "    Encode a sentence into a list of integers\n",
    "\n",
    "    Parameters:\n",
    "    sentence (str): The sentence to encode\n",
    "    vocab (list): The vocabulary\n",
    "\n",
    "    Returns:\n",
    "    list: The list of integers\n",
    "    \"\"\"\n",
    "    return [\n",
    "        vocab.index(word) if word in vocab else vocab.index(\"<UNK>\")\n",
    "        for word in sentence.split(\" \")\n",
    "    ]"
   ]
  },
  {
   "cell_type": "code",
   "execution_count": 190,
   "metadata": {},
   "outputs": [
    {
     "name": "stdout",
     "output_type": "stream",
     "text": [
      "j: O\n",
      "e: O\n",
      " : O\n",
      "v: O\n",
      "o: LOC-DEP\n",
      "u: LOC-DEP\n",
      "d: LOC-DEP\n",
      "r: O\n"
     ]
    }
   ],
   "source": [
    "from app.travel_resolver.libs.nlp.data_processing import process_sentence\n",
    "\n",
    "vocab = list(em_prob_dict.keys())\n",
    "\n",
    "test_sentence = \"Je voudrais voyager de Montpellier à Paris.\"\n",
    "\n",
    "test_sentence = process_sentence(test_sentence, stemming=True)\n",
    "\n",
    "test_sentence_encoded = encode_sentence(test_sentence, vocab)\n",
    "\n",
    "test_sentence_encoded = np.array(test_sentence_encoded).reshape(-1, 1)\n",
    "\n",
    "predicted_labels = hmm.predict(test_sentence_encoded)\n",
    "\n",
    "for word, label in zip(test_sentence, predicted_labels):\n",
    "    print(f\"{word}: {list(unique_labels.keys())[label]}\")"
   ]
  },
  {
   "cell_type": "code",
   "execution_count": 200,
   "metadata": {},
   "outputs": [
    {
     "data": {
      "text/plain": [
       "(2752,)"
      ]
     },
     "execution_count": 200,
     "metadata": {},
     "output_type": "execute_result"
    }
   ],
   "source": [
    "test_sentences_encoded = [\n",
    "    encode_sentence(sentence, vocab) for sentence in test_sentences\n",
    "]\n",
    "test_sentences_lengths = [len(sentence) for sentence in test_sentences_encoded]\n",
    "\n",
    "\n",
    "test_sentences_encoded_flat = [\n",
    "    item for sublist in test_sentences_encoded for item in sublist\n",
    "]\n",
    "test_sentences_encoded = np.array(test_sentences_encoded_flat).reshape(-1, 1)\n",
    "\n",
    "predicted_labels_test = hmm.predict(test_sentences_encoded, test_sentences_lengths)"
   ]
  },
  {
   "cell_type": "code",
   "execution_count": 206,
   "metadata": {},
   "outputs": [
    {
     "name": "stdout",
     "output_type": "stream",
     "text": [
      "Accuracy: 0.7220203488372093\n",
      "Precision: 0.8874470370658255\n",
      "Recall: 0.7220203488372093\n"
     ]
    }
   ],
   "source": [
    "from sklearn.metrics import accuracy_score, precision_score, recall_score, f1_score\n",
    "\n",
    "y_test = [item for sublist in y_test for item in sublist]\n",
    "\n",
    "accuracy_score = accuracy_score(y_test, predicted_labels_test)\n",
    "precision_score = precision_score(y_test, predicted_labels_test, average=\"weighted\")\n",
    "recall_score = recall_score(y_test, predicted_labels_test, average=\"weighted\")\n",
    "\n",
    "print(f\"Accuracy: {accuracy_score}\")\n",
    "print(f\"Precision: {precision_score}\")\n",
    "print(f\"Recall: {recall_score}\")"
   ]
  }
 ],
 "metadata": {
  "kernelspec": {
   "display_name": "venv",
   "language": "python",
   "name": "python3"
  },
  "language_info": {
   "codemirror_mode": {
    "name": "ipython",
    "version": 3
   },
   "file_extension": ".py",
   "mimetype": "text/x-python",
   "name": "python",
   "nbconvert_exporter": "python",
   "pygments_lexer": "ipython3",
   "version": "3.12.4"
  }
 },
 "nbformat": 4,
 "nbformat_minor": 2
}
