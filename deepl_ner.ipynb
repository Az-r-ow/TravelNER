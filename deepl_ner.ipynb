{
 "cells": [
  {
   "cell_type": "markdown",
   "metadata": {},
   "source": [
    "# Deep learning NER\n",
    "\n",
    "In this notebook, we will discover two deep learning techniques for Named Entity Recognition (or NER).\n",
    "\n",
    "- LSTM (Long Short Term Memory)\n",
    "- Transformers\n"
   ]
  },
  {
   "cell_type": "markdown",
   "metadata": {},
   "source": [
    "The generated **BIO** file by the script will be loaded as well as a corpus of lambda sentences that don't necessarily contain either an _arrival_ or _departure_ location.\n",
    "\n",
    "Since the goal is to extract the locations from a user's query, the times in which random sentences might be inputted should be accounted for. Therefore, to stay rational with the frequency of that happening, the ratio will be $1:10$ for the lambda sentences which will be extracted from `data/french_text/1k_unlabeled_samples.txt`. In addition, more complex sentences where the **departure** and **arrival** locations are not in the same sentence. Their ratio will be the same as the unlabeled sentences.\n"
   ]
  },
  {
   "cell_type": "code",
   "execution_count": 1,
   "metadata": {},
   "outputs": [
    {
     "name": "stderr",
     "output_type": "stream",
     "text": [
      "[nltk_data] Downloading package punkt_tab to /Users/az-r-\n",
      "[nltk_data]     ow/nltk_data...\n",
      "[nltk_data]   Package punkt_tab is already up-to-date!\n"
     ]
    }
   ],
   "source": [
    "from app.travel_resolver.libs.nlp import data_processing as dp\n",
    "\n",
    "sentences, labels, vocab, unique_labels = dp.from_bio_file_to_examples(\n",
    "    \"./data/bio/fr.bio/10k_train_small_samples.bio\"\n",
    ")"
   ]
  },
  {
   "cell_type": "code",
   "execution_count": 2,
   "metadata": {},
   "outputs": [],
   "source": [
    "lambda_sentences, lambda_labels, _, __ = dp.from_bio_file_to_examples(\n",
    "    \"./data/bio/fr.bio/1k_train_unlabeled_samples.bio\"\n",
    ")"
   ]
  },
  {
   "cell_type": "code",
   "execution_count": 3,
   "metadata": {},
   "outputs": [],
   "source": [
    "large_sentences, large_labels, _, __ = dp.from_bio_file_to_examples(\n",
    "    \"./data/bio/fr.bio/1k_train_large_samples.bio\"\n",
    ")"
   ]
  },
  {
   "cell_type": "code",
   "execution_count": 4,
   "metadata": {},
   "outputs": [],
   "source": [
    "sentences = sentences + lambda_sentences + large_sentences\n",
    "labels = labels + lambda_labels + large_labels"
   ]
  },
  {
   "cell_type": "code",
   "execution_count": 5,
   "metadata": {},
   "outputs": [],
   "source": [
    "def process_sentences_and_labels(\n",
    "    sentences,\n",
    "    labels,\n",
    "    rm_stopwords: bool = False,\n",
    "    stemming: bool = True,\n",
    "    return_tokens: bool = False,\n",
    "):\n",
    "    \"\"\"\n",
    "    Process the sentences and labels using the process_sentence function from the data_processing module.\n",
    "\n",
    "    Args:\n",
    "    sentences (list): List of sentences to process.\n",
    "    labels (list): List of labels to process.\n",
    "    rm_stopwords (bool): Whether to remove stopwords from the sentences.\n",
    "    stemming (bool): Whether to apply stemming to the sentences.\n",
    "    return_tokens (bool): Whether to return the tokens of the sentences.\n",
    "\n",
    "    Returns:\n",
    "    processed_sentences (list): List of processed sentences.\n",
    "    processed_labels (list): List of processed labels.\n",
    "    \"\"\"\n",
    "    processed_sentences = []\n",
    "    processed_labels = []\n",
    "\n",
    "    for sentence, label in zip(sentences, labels):\n",
    "        sentence, label = dp.process_sentence(\n",
    "            sentence,\n",
    "            labels_to_adapt=label,\n",
    "            rm_stopwords=rm_stopwords,\n",
    "            stemming=stemming,\n",
    "            return_tokens=return_tokens,\n",
    "        )\n",
    "        processed_sentences.append(sentence)\n",
    "        processed_labels.append(label)\n",
    "\n",
    "    return processed_sentences, processed_labels"
   ]
  },
  {
   "cell_type": "code",
   "execution_count": 6,
   "metadata": {},
   "outputs": [],
   "source": [
    "processed_sentences, processed_labels = process_sentences_and_labels(\n",
    "    sentences, labels, return_tokens=True\n",
    ")"
   ]
  },
  {
   "cell_type": "code",
   "execution_count": 7,
   "metadata": {},
   "outputs": [
    {
     "data": {
      "image/png": "[encoded data removed]",
      "text/plain": [
       "<Figure size 640x480 with 1 Axes>"
      ]
     },
     "metadata": {},
     "output_type": "display_data"
    }
   ],
   "source": [
    "import matplotlib.pyplot as plt\n",
    "\n",
    "plt.hist([len(sentence) for sentence in processed_sentences], bins=50)\n",
    "plt.title(\"Histogram of sentence lengths\")\n",
    "\n",
    "plt.show()"
   ]
  },
  {
   "cell_type": "code",
   "execution_count": 8,
   "metadata": {},
   "outputs": [],
   "source": [
    "\"\"\"\n",
    "  This variable will control the maximum length of the sentence \n",
    "  as well as the embedding size\n",
    "\"\"\"\n",
    "\n",
    "MAX_LEN = 100"
   ]
  },
  {
   "cell_type": "code",
   "execution_count": 9,
   "metadata": {},
   "outputs": [],
   "source": [
    "import tensorflow as tf\n",
    "\n",
    "\n",
    "def encode_and_pad_sentence(sentence: str, vocab: list[str], max_length: int = MAX_LEN):\n",
    "    \"\"\"\n",
    "    Encode a sentence into a list of integers\n",
    "\n",
    "    Parameters:\n",
    "    sentence (str): The sentence to encode\n",
    "    vocab (list): The vocabulary\n",
    "\n",
    "    Returns:\n",
    "    list: The list of integers\n",
    "    \"\"\"\n",
    "    encoded_sentence = [\n",
    "        vocab.index(word) if word in vocab else vocab.index(\"<UNK>\")\n",
    "        for word in sentence\n",
    "    ]\n",
    "\n",
    "    return tf.keras.utils.pad_sequences(\n",
    "        [encoded_sentence], maxlen=max_length, padding=\"post\", value=0\n",
    "    )[0]"
   ]
  },
  {
   "cell_type": "code",
   "execution_count": 10,
   "metadata": {},
   "outputs": [],
   "source": [
    "get_vocab_from_corpus = lambda corpus: [\"\", \"<UNK>\"] + list(\n",
    "    set([word for sentence in corpus for word in sentence])\n",
    ")"
   ]
  },
  {
   "cell_type": "code",
   "execution_count": 11,
   "metadata": {},
   "outputs": [],
   "source": [
    "vocab = get_vocab_from_corpus(processed_sentences)"
   ]
  },
  {
   "cell_type": "code",
   "execution_count": 12,
   "metadata": {},
   "outputs": [],
   "source": [
    "encoded_sentences = [\n",
    "    encode_and_pad_sentence(sentence, vocab) for sentence in processed_sentences\n",
    "]"
   ]
  },
  {
   "cell_type": "code",
   "execution_count": 13,
   "metadata": {},
   "outputs": [],
   "source": [
    "padded_labels = tf.keras.preprocessing.sequence.pad_sequences(\n",
    "    processed_labels, maxlen=MAX_LEN, padding=\"post\", value=-1\n",
    ")"
   ]
  },
  {
   "cell_type": "code",
   "execution_count": 14,
   "metadata": {},
   "outputs": [
    {
     "name": "stderr",
     "output_type": "stream",
     "text": [
      "2024-11-29 13:30:40.426412: I tensorflow/core/framework/local_rendezvous.cc:404] Local rendezvous is aborting with status: OUT_OF_RANGE: End of sequence\n"
     ]
    }
   ],
   "source": [
    "dataset = tf.data.Dataset.from_tensor_slices((encoded_sentences, padded_labels))\n",
    "\n",
    "dataset = dataset.shuffle(len(encoded_sentences), seed=42)\n",
    "\n",
    "# Split the dataset into a training and testing dataset\n",
    "train_dataset, test_dataset = tf.keras.utils.split_dataset(dataset, left_size=0.8)"
   ]
  },
  {
   "cell_type": "markdown",
   "metadata": {},
   "source": [
    "## Masked loss and metrics\n",
    "\n",
    "Before training the model, we need to create your own function to compute the accuracy. Tensorflow has built-in accuracy metrics but we cannot pass values to be ignored. This will impact the calculations, since we must remove the padded values.\n",
    "\n",
    "Usually, the metric that inputs true labels and predicted labels and outputs how many times the predicted and true labels match is called accuracy. In some cases, however, there is one more step before getting the predicted labels. This may happen if, instead of passing the predicted labels, a vector of probabilities is passed. In such case, there is a need to perform an `argmax` for each prediction to find the appropriate predicted label. Such situations happen very often, therefore Tensorflow has a set of functions, with prefix `Sparse`, that performs this operation in the backend. Unfortunately, it does not provide values to ignore in the accuracy case. This is what you will work on now.\n",
    "\n",
    "Note that the model's prediction has 3 axes:\n",
    "\n",
    "- the number of examples (batch size)\n",
    "- the number of words in each example (padded to be as long as the longest sentence in the batch)\n",
    "- the number of possible targets (the 17 named entity tags).\n",
    "\n",
    "Another important function is the loss function. In this case, we will use the Cross Entropy loss, but we need a multiclass implementation of it, also we may look for its Sparse version. Tensorflow has a SparseCategoricalCrossentropy loss function, which it is already imported by the name SparseCategoricalCrossEntropy.\n",
    "\n",
    "SparseCategoricalCrossentropy: The Sparse Categorical Crossentropy Loss Function.\n",
    "\n",
    "The arguments you will need:\n",
    "\n",
    "1. `from_logits`: This indicates if the values are raw values or normalized values (probabilities). Since the last layer of the model finishes with a LogSoftMax call, the results are not normalized - they do not lie between 0 and 1.\n",
    "2. `ignore_class`: This indicates which class should be ignored when computing the crossentropy. Remember that the class related to padding value is set to be 0.\n"
   ]
  },
  {
   "cell_type": "code",
   "execution_count": 15,
   "metadata": {},
   "outputs": [],
   "source": [
    "class CustomSparseCategoricalCrossentropy(tf.keras.losses.Loss):\n",
    "    def __init__(self, from_logits=False, ignore_class=-1):\n",
    "        super().__init__()\n",
    "        self.from_logits = from_logits\n",
    "        self.ignore_class = ignore_class\n",
    "\n",
    "    def call(self, y_true, y_pred):\n",
    "        # Ensure inputs are tensors\n",
    "        y_true = tf.convert_to_tensor(y_true)\n",
    "        y_pred = tf.convert_to_tensor(y_pred)\n",
    "\n",
    "        # Generate a mask that is False where y_true equals ignore_class and True elsewhere\n",
    "        mask = tf.not_equal(y_true, self.ignore_class)\n",
    "\n",
    "        # Use this mask to filter out ignored values from y_true and y_pred\n",
    "        y_true_filtered = tf.boolean_mask(y_true, mask)\n",
    "        y_pred_filtered = tf.boolean_mask(y_pred, mask)\n",
    "\n",
    "        # Compute the sparse categorical crossentropy on filtered targets and predictions\n",
    "        loss = tf.keras.losses.sparse_categorical_crossentropy(\n",
    "            y_true_filtered, y_pred_filtered, from_logits=self.from_logits\n",
    "        )\n",
    "\n",
    "        # Return the mean loss value\n",
    "        return tf.reduce_mean(loss)\n",
    "\n",
    "\n",
    "def masked_loss(y_true, y_pred):\n",
    "    \"\"\"\n",
    "    Calculate the masked sparse categorical cross-entropy loss.\n",
    "\n",
    "    Parameters:\n",
    "    y_true (tensor): True labels.\n",
    "    y_pred (tensor): Predicted logits.\n",
    "\n",
    "    Returns:\n",
    "    loss (tensor): Calculated loss.\n",
    "    \"\"\"\n",
    "\n",
    "    # Calculate the loss for each item in the batch. Remember to pass the right arguments, as discussed above!\n",
    "    loss_fn = CustomSparseCategoricalCrossentropy(from_logits=True, ignore_class=-1)\n",
    "    # Use the previous defined function to compute the loss\n",
    "    loss = loss_fn(y_true, y_pred)\n",
    "\n",
    "    return loss"
   ]
  },
  {
   "cell_type": "code",
   "execution_count": 16,
   "metadata": {},
   "outputs": [],
   "source": [
    "def masked_accuracy(y_true, y_pred):\n",
    "    \"\"\"\n",
    "    Calculate masked accuracy for predicted labels.\n",
    "\n",
    "    Parameters:\n",
    "    y_true (tensor): True labels.\n",
    "    y_pred (tensor): Predicted logits.\n",
    "\n",
    "    Returns:\n",
    "    accuracy (tensor): Masked accuracy.\n",
    "    \"\"\"\n",
    "\n",
    "    # Calculate the loss for each item in the batch.\n",
    "    # We must always cast the tensors to the same type in order to use them in training. Since we will make divisions, it is safe to use tf.float32 data type.\n",
    "    y_true = tf.cast(y_true, tf.float32)\n",
    "    # Create the mask, i.e., the values that will be ignored\n",
    "    mask = tf.not_equal(y_true, -1.0)\n",
    "\n",
    "    mask = tf.cast(mask, tf.float32)\n",
    "\n",
    "    # Perform argmax to get the predicted values\n",
    "    y_pred_class = tf.math.argmax(y_pred, axis=-1)\n",
    "    y_pred_class = tf.cast(y_pred_class, tf.float32)\n",
    "    # Compare the true values with the predicted ones\n",
    "    matches_true_pred = tf.equal(y_true, y_pred_class)\n",
    "    matches_true_pred = tf.cast(matches_true_pred, tf.float32)\n",
    "    # Multiply the acc tensor with the masks\n",
    "    matches_true_pred *= mask\n",
    "\n",
    "    # Compute masked accuracy (quotient between the total matches and the total valid values, i.e., the amount of non-masked values)\n",
    "    masked_acc = tf.reduce_sum(matches_true_pred) / tf.reduce_sum(mask)\n",
    "\n",
    "    return masked_acc"
   ]
  },
  {
   "cell_type": "markdown",
   "metadata": {},
   "source": [
    "In addition, we will need a function that computes the accuracy of the model when it comes to the tagged entities. This will come in handy when comparing the performance of the models on sentences with different length. Because otherwise, using the `masked_accuracy` the score will be biases (because of the `O` token).\n"
   ]
  },
  {
   "cell_type": "code",
   "execution_count": 17,
   "metadata": {},
   "outputs": [],
   "source": [
    "def entity_accuracy(y_true, y_pred):\n",
    "    \"\"\"\n",
    "    Calculate the accuracy based on the entities. Which mean that correct `O` tags will not be taken into account.\n",
    "\n",
    "    Parameters:\n",
    "    y_true (tensor): True labels.\n",
    "    y_pred (tensor): Predicted logits.\n",
    "\n",
    "    Returns:\n",
    "    accuracy (tensor): Tag accuracy.\n",
    "    \"\"\"\n",
    "\n",
    "    y_true = tf.cast(y_true, tf.float32)\n",
    "    # We ignore the padding and the O tag\n",
    "    mask = y_true > 0\n",
    "    mask = tf.cast(mask, tf.float32)\n",
    "\n",
    "    y_pred_class = tf.math.argmax(y_pred, axis=-1)\n",
    "    y_pred_class = tf.cast(y_pred_class, tf.float32)\n",
    "\n",
    "    matches_true_pred = tf.equal(y_true, y_pred_class)\n",
    "    matches_true_pred = tf.cast(matches_true_pred, tf.float32)\n",
    "\n",
    "    matches_true_pred *= mask\n",
    "\n",
    "    masked_acc = tf.reduce_sum(matches_true_pred) / tf.reduce_sum(mask)\n",
    "\n",
    "    return masked_acc"
   ]
  },
  {
   "cell_type": "markdown",
   "metadata": {},
   "source": [
    "## Eval Dataset\n"
   ]
  },
  {
   "cell_type": "code",
   "execution_count": 18,
   "metadata": {},
   "outputs": [],
   "source": [
    "eval_sentences, eval_labels, _, __ = dp.from_bio_file_to_examples(\n",
    "    \"./data/bio/fr.bio/eval_small_samples.bio\"\n",
    ")\n",
    "\n",
    "eval_unlabeled, eval_unlabeled_labels, _, __ = dp.from_bio_file_to_examples(\n",
    "    \"./data/bio/fr.bio/eval_unlabeled_samples.bio\"\n",
    ")\n",
    "\n",
    "eval_large, eval_large_labels, _, __ = dp.from_bio_file_to_examples(\n",
    "    \"./data/bio/fr.bio/eval_large_samples.bio\"\n",
    ")\n",
    "\n",
    "eval_short_sentences, eval_short_labels = process_sentences_and_labels(\n",
    "    eval_sentences, eval_labels, return_tokens=True\n",
    ")\n",
    "eval_unlabeled_sentences, eval_unlabeled_labels = process_sentences_and_labels(\n",
    "    eval_unlabeled, eval_unlabeled_labels, return_tokens=True\n",
    ")\n",
    "eval_large_sentences, eval_large_labels = process_sentences_and_labels(\n",
    "    eval_large, eval_large_labels, return_tokens=True\n",
    ")"
   ]
  },
  {
   "cell_type": "code",
   "execution_count": 19,
   "metadata": {},
   "outputs": [],
   "source": [
    "encoded_eval_short_sentences = [\n",
    "    encode_and_pad_sentence(sentence, vocab) for sentence in eval_short_sentences\n",
    "]\n",
    "\n",
    "encoded_eval_short_sentences = tf.convert_to_tensor(encoded_eval_short_sentences)\n",
    "\n",
    "padded_eval_short_labels = tf.keras.preprocessing.sequence.pad_sequences(\n",
    "    eval_short_labels, maxlen=MAX_LEN, padding=\"post\", value=-1\n",
    ")\n",
    "\n",
    "encoded_eval_unlabeled_sentences = [\n",
    "    encode_and_pad_sentence(sentence, vocab) for sentence in eval_unlabeled_sentences\n",
    "]\n",
    "\n",
    "encoded_eval_unlabeled_sentences = tf.convert_to_tensor(\n",
    "    encoded_eval_unlabeled_sentences\n",
    ")\n",
    "\n",
    "padded_eval_unlabeled_labels = tf.keras.preprocessing.sequence.pad_sequences(\n",
    "    eval_unlabeled_labels, maxlen=MAX_LEN, padding=\"post\", value=-1\n",
    ")\n",
    "\n",
    "encoded_eval_large_sentences = [\n",
    "    encode_and_pad_sentence(sentence, vocab) for sentence in eval_large_sentences\n",
    "]\n",
    "\n",
    "encoded_eval_large_sentences = tf.convert_to_tensor(encoded_eval_large_sentences)\n",
    "\n",
    "padded_eval_large_labels = tf.keras.preprocessing.sequence.pad_sequences(\n",
    "    eval_large_labels, maxlen=MAX_LEN, padding=\"post\", value=-1\n",
    ")"
   ]
  },
  {
   "cell_type": "markdown",
   "metadata": {},
   "source": [
    "## Custom Confusion Matrix\n"
   ]
  },
  {
   "cell_type": "code",
   "execution_count": 20,
   "metadata": {},
   "outputs": [],
   "source": [
    "import seaborn as sns\n",
    "\n",
    "\n",
    "def tf_round(x, decimals=0):\n",
    "    multiplier = tf.constant(10**decimals, dtype=x.dtype)\n",
    "    return tf.round(x * multiplier) / multiplier\n",
    "\n",
    "\n",
    "def confusion_matrix(\n",
    "    y_true,\n",
    "    y_pred,\n",
    "    unique_labels,\n",
    "    title=\"Confusion matrix\",\n",
    "    return_ax: bool = False,\n",
    "    ax: plt.Axes = None,\n",
    "):\n",
    "    \"\"\"\n",
    "    Calculate the confusion matrix for the model's predictions.\n",
    "\n",
    "    Parameters:\n",
    "    y_true (tensor): True labels.\n",
    "    y_pred (tensor): Predicted logits.\n",
    "    unique_labels (list): List of unique labels.\n",
    "    title (str): Title of the plot.\n",
    "    return_ax (bool): Whether to return the axis or not if not the plot will be shown.\n",
    "    \"\"\"\n",
    "\n",
    "    # Perform argmax to get the predicted values\n",
    "    y_pred_class = tf.math.argmax(y_pred, axis=-1)\n",
    "    # Cast the tensors to float32\n",
    "    y_true = tf.cast(y_true, tf.float32)\n",
    "    y_pred_class = tf.cast(y_pred_class, tf.float32)\n",
    "    # Create the mask, i.e., the values that will be ignored\n",
    "    mask = tf.not_equal(y_true, -1.0)\n",
    "    mask = tf.cast(mask, tf.float32)\n",
    "    # Multiply the true values by the mask\n",
    "    y_true *= mask\n",
    "    # Multiply the predicted values by the mask\n",
    "    y_pred_class *= mask\n",
    "\n",
    "    # Flattening to match the confusion matrix function signature\n",
    "    y_true_flat = tf.reshape(y_true, [-1])\n",
    "    y_pred_class_flat = tf.reshape(y_pred_class, [-1])\n",
    "    mask_flat = tf.reshape(mask, [-1])\n",
    "\n",
    "    # Compute the confusion matrix\n",
    "    cm = tf.math.confusion_matrix(\n",
    "        y_true_flat,\n",
    "        y_pred_class_flat,\n",
    "        num_classes=len(unique_labels.items()),\n",
    "        weights=mask_flat,\n",
    "    )\n",
    "\n",
    "    cm_normalized = tf.math.divide_no_nan(cm, tf.reduce_sum(cm, axis=1, keepdims=True))\n",
    "\n",
    "    cm_normalized = tf_round(cm_normalized, 2)\n",
    "\n",
    "    hm = sns.heatmap(cm_normalized, annot=True, cmap=\"Blues\", ax=ax)\n",
    "\n",
    "    ax = ax if ax else hm\n",
    "\n",
    "    ax.set_xticklabels(labels=unique_labels, rotation=45)\n",
    "    ax.set_yticklabels(labels=unique_labels, rotation=45)\n",
    "\n",
    "    ax.set_xlabel(\"Predicted labels\")\n",
    "    ax.set_ylabel(\"True labels\")\n",
    "    ax.set_title(title)\n",
    "\n",
    "    if return_ax:\n",
    "        return ax\n",
    "\n",
    "    plt.show()"
   ]
  },
  {
   "cell_type": "markdown",
   "metadata": {},
   "source": [
    "## Bootstrapping\n",
    "\n",
    "The bootstrapping function will resample the evaluation data with $B = 30$.\n"
   ]
  },
  {
   "cell_type": "code",
   "execution_count": 21,
   "metadata": {},
   "outputs": [],
   "source": [
    "import numpy as np\n",
    "import tensorflow as tf\n",
    "from tqdm import tqdm\n",
    "\n",
    "bootstrap_eval_sentences = tf.concat(\n",
    "    [\n",
    "        encoded_eval_short_sentences,\n",
    "        encoded_eval_unlabeled_sentences,\n",
    "        encoded_eval_large_sentences,\n",
    "    ],\n",
    "    axis=0,\n",
    ")\n",
    "\n",
    "bootstrap_eval_labels = tf.concat(\n",
    "    [padded_eval_short_labels, padded_eval_unlabeled_labels, padded_eval_large_labels],\n",
    "    axis=0,\n",
    ")\n",
    "\n",
    "\n",
    "def bootstrap_evaluation(\n",
    "    model,\n",
    "    sentences=bootstrap_eval_sentences,\n",
    "    labels=bootstrap_eval_labels,\n",
    "    num_bootstrap_samples=30,\n",
    "):\n",
    "    \"\"\"\n",
    "    Perform bootstrapping on the evaluation dataset and calculate both accuracy and entity accuracy.\n",
    "\n",
    "    Parameters:\n",
    "    model (tf.keras.Model): The trained model.\n",
    "    sentences (list): List of sentences to evaluate.\n",
    "    labels (list): List of true labels corresponding to the sentences.\n",
    "    vocab (list): The vocabulary.\n",
    "    unique_labels (dict): Dictionary of unique labels.\n",
    "    max_len (int): The maximum length of the sentences.\n",
    "    num_bootstrap_samples (int): Number of bootstrap samples to generate.\n",
    "\n",
    "    Returns:\n",
    "    dict: Dictionary containing the accuracy and entity accuracy for each bootstrap sample.\n",
    "    \"\"\"\n",
    "    accuracies = []\n",
    "    entity_accuracies = []\n",
    "    num_sentences = tf.shape(sentences)[0]\n",
    "\n",
    "    for _ in tqdm(range(num_bootstrap_samples)):\n",
    "        indicies = tf.random.uniform(\n",
    "            [num_sentences], maxval=num_sentences, dtype=tf.int32\n",
    "        )\n",
    "        sampled_sentences = tf.gather(sentences, indicies)\n",
    "        sampled_labels = tf.gather(labels, indicies)\n",
    "\n",
    "        predictions = model.predict(sampled_sentences, verbose=0)\n",
    "\n",
    "        acc = masked_accuracy(sampled_labels, predictions).numpy()\n",
    "        entity_acc = entity_accuracy(sampled_labels, predictions).numpy()\n",
    "\n",
    "        accuracies.append(acc)\n",
    "        entity_accuracies.append(entity_acc)\n",
    "\n",
    "    return {\"accuracies\": accuracies, \"entity_accuracies\": entity_accuracies}"
   ]
  },
  {
   "cell_type": "markdown",
   "metadata": {},
   "source": [
    "## LSTM\n"
   ]
  },
  {
   "cell_type": "code",
   "execution_count": 22,
   "metadata": {},
   "outputs": [],
   "source": [
    "lstm = tf.keras.models.Sequential(\n",
    "    layers=[\n",
    "        tf.keras.layers.Embedding(len(vocab) + 1, MAX_LEN, mask_zero=True),\n",
    "        tf.keras.layers.LSTM(MAX_LEN, return_sequences=True),\n",
    "        tf.keras.layers.Dropout(0.2),\n",
    "        tf.keras.layers.Dense(len(unique_labels), activation=tf.nn.log_softmax),\n",
    "    ]\n",
    ")"
   ]
  },
  {
   "cell_type": "code",
   "execution_count": 23,
   "metadata": {},
   "outputs": [],
   "source": [
    "lstm.compile(\n",
    "    optimizer=tf.keras.optimizers.Adam(0.01),\n",
    "    loss=masked_loss,\n",
    "    metrics=[masked_accuracy],\n",
    ")"
   ]
  },
  {
   "cell_type": "code",
   "execution_count": 24,
   "metadata": {},
   "outputs": [
    {
     "name": "stdout",
     "output_type": "stream",
     "text": [
      "Epoch 1/10\n",
      "\u001b[1m148/148\u001b[0m \u001b[32m━━━━━━━━━━━━━━━━━━━━\u001b[0m\u001b[37m\u001b[0m \u001b[1m10s\u001b[0m 64ms/step - loss: 0.1936 - masked_accuracy: 0.9304 - val_loss: 0.0115 - val_masked_accuracy: 0.9961\n",
      "Epoch 2/10\n",
      "\u001b[1m148/148\u001b[0m \u001b[32m━━━━━━━━━━━━━━━━━━━━\u001b[0m\u001b[37m\u001b[0m \u001b[1m9s\u001b[0m 63ms/step - loss: 0.0077 - masked_accuracy: 0.9976 - val_loss: 0.0118 - val_masked_accuracy: 0.9965\n"
     ]
    },
    {
     "data": {
      "text/plain": [
       "<keras.src.callbacks.history.History at 0x292c64f80>"
      ]
     },
     "execution_count": 24,
     "metadata": {},
     "output_type": "execute_result"
    }
   ],
   "source": [
    "lstm.fit(\n",
    "    train_dataset.batch(64),\n",
    "    validation_data=test_dataset.batch(64),\n",
    "    epochs=10,\n",
    "    shuffle=True,\n",
    "    callbacks=[\n",
    "        tf.keras.callbacks.EarlyStopping(\n",
    "            monitor=\"val_loss\", min_delta=0.01, restore_best_weights=True\n",
    "        )\n",
    "    ],\n",
    ")"
   ]
  },
  {
   "cell_type": "code",
   "execution_count": 25,
   "metadata": {},
   "outputs": [
    {
     "name": "stdout",
     "output_type": "stream",
     "text": [
      "\u001b[1m2367/2367\u001b[0m \u001b[32m━━━━━━━━━━━━━━━━━━━━\u001b[0m\u001b[37m\u001b[0m \u001b[1m12s\u001b[0m 5ms/step\n"
     ]
    }
   ],
   "source": [
    "test_predictions = lstm.predict(test_dataset.batch(1))"
   ]
  },
  {
   "cell_type": "code",
   "execution_count": 26,
   "metadata": {},
   "outputs": [
    {
     "name": "stdout",
     "output_type": "stream",
     "text": [
      "\u001b[1m24/24\u001b[0m \u001b[32m━━━━━━━━━━━━━━━━━━━━\u001b[0m\u001b[37m\u001b[0m \u001b[1m0s\u001b[0m 13ms/step\n",
      "\u001b[1m4/4\u001b[0m \u001b[32m━━━━━━━━━━━━━━━━━━━━\u001b[0m\u001b[37m\u001b[0m \u001b[1m0s\u001b[0m 8ms/step \n",
      "\u001b[1m3/3\u001b[0m \u001b[32m━━━━━━━━━━━━━━━━━━━━\u001b[0m\u001b[37m\u001b[0m \u001b[1m0s\u001b[0m 11ms/step\n"
     ]
    }
   ],
   "source": [
    "eval_short_predictions = lstm.predict(encoded_eval_short_sentences)\n",
    "eval_unlabeled_predictions = lstm.predict(encoded_eval_unlabeled_sentences)\n",
    "eval_large_predictions = lstm.predict(encoded_eval_large_sentences)"
   ]
  },
  {
   "cell_type": "code",
   "execution_count": 27,
   "metadata": {},
   "outputs": [
    {
     "name": "stdout",
     "output_type": "stream",
     "text": [
      "Eval short sentences accuracy:  0.9353222\n",
      "Eval unlabeled sentences accuracy:  0.99639314\n",
      "Eval large sentences accuracy:  0.97779137\n"
     ]
    }
   ],
   "source": [
    "print(\n",
    "    \"Eval short sentences accuracy: \",\n",
    "    masked_accuracy(padded_eval_short_labels, eval_short_predictions).numpy(),\n",
    ")\n",
    "print(\n",
    "    \"Eval unlabeled sentences accuracy: \",\n",
    "    masked_accuracy(padded_eval_unlabeled_labels, eval_unlabeled_predictions).numpy(),\n",
    ")\n",
    "print(\n",
    "    \"Eval large sentences accuracy: \",\n",
    "    masked_accuracy(padded_eval_large_labels, eval_large_predictions).numpy(),\n",
    ")"
   ]
  },
  {
   "cell_type": "markdown",
   "metadata": {},
   "source": [
    "The accuracy of the `large_sentences` corpus is much higher than the `short_sentences` but that is influenced by the **higher** number of `O` tags and doesn't reflect the actual accuracy of **entities recognition**.\n"
   ]
  },
  {
   "cell_type": "code",
   "execution_count": 28,
   "metadata": {},
   "outputs": [
    {
     "name": "stdout",
     "output_type": "stream",
     "text": [
      "Eval short sentences tag accuracy:  0.755648\n",
      "Eval large sentences tag accuracy:  0.6894977\n"
     ]
    }
   ],
   "source": [
    "print(\n",
    "    \"Eval short sentences tag accuracy: \",\n",
    "    entity_accuracy(padded_eval_short_labels, eval_short_predictions).numpy(),\n",
    ")\n",
    "print(\n",
    "    \"Eval large sentences tag accuracy: \",\n",
    "    entity_accuracy(padded_eval_large_labels, eval_large_predictions).numpy(),\n",
    ")"
   ]
  },
  {
   "cell_type": "code",
   "execution_count": 29,
   "metadata": {},
   "outputs": [
    {
     "data": {
      "image/png": "[encoded data removed]",
      "text/plain": [
       "<Figure size 1000x3000 with 6 Axes>"
      ]
     },
     "metadata": {},
     "output_type": "display_data"
    }
   ],
   "source": [
    "fig, axs = plt.subplots(3, 1, figsize=(10, 30))\n",
    "\n",
    "confusion_matrix(\n",
    "    padded_eval_short_labels,\n",
    "    eval_short_predictions,\n",
    "    unique_labels,\n",
    "    title=\"Confusion matrix for LSTM on evaluation (short sentences) dataset\",\n",
    "    return_ax=True,\n",
    "    ax=axs[0],\n",
    ")\n",
    "\n",
    "confusion_matrix(\n",
    "    padded_eval_unlabeled_labels,\n",
    "    eval_unlabeled_predictions,\n",
    "    unique_labels,\n",
    "    title=\"Confusion matrix for LSTM on evaluation (unlabeled sentences) dataset\",\n",
    "    return_ax=True,\n",
    "    ax=axs[1],\n",
    ")\n",
    "\n",
    "confusion_matrix(\n",
    "    padded_eval_large_labels,\n",
    "    eval_large_predictions,\n",
    "    unique_labels,\n",
    "    title=\"Confusion matrix for LSTM on evaluation (large sentences) dataset\",\n",
    "    return_ax=True,\n",
    "    ax=axs[2],\n",
    ")\n",
    "\n",
    "plt.show()"
   ]
  },
  {
   "cell_type": "code",
   "execution_count": 30,
   "metadata": {},
   "outputs": [],
   "source": [
    "def predict(\n",
    "    sentence: str,\n",
    "    model: tf.keras.Model,\n",
    "    vocab: list[str] = vocab,\n",
    "    max_len: int = MAX_LEN,\n",
    "):\n",
    "    \"\"\"\n",
    "    Predict the labels for a given sentence.\n",
    "\n",
    "    Parameters:\n",
    "    sentence (str): The sentence to predict.\n",
    "    model (tf.keras.Model): The trained model.\n",
    "    vocab (list): The vocabulary.\n",
    "    max_len (int): The maximum length of the sentence.\n",
    "\n",
    "    Returns:\n",
    "    list: The predicted labels.\n",
    "    \"\"\"\n",
    "    processed_sentence = dp.process_sentence(\n",
    "        sentence, stemming=True, return_tokens=True\n",
    "    )\n",
    "\n",
    "    unstemmed_sentence = dp.process_sentence(\n",
    "        sentence, stemming=False, return_tokens=True\n",
    "    )\n",
    "\n",
    "    encoded_sentence = encode_and_pad_sentence(processed_sentence, vocab, max_len)\n",
    "\n",
    "    prediction = model.predict(tf.convert_to_tensor([encoded_sentence]))\n",
    "\n",
    "    for word, label in zip(\n",
    "        unstemmed_sentence, tf.math.argmax(prediction, axis=-1)[0].numpy()\n",
    "    ):\n",
    "        print(f\"{word}: {list(unique_labels.keys())[label]}\")\n",
    "\n",
    "    return prediction"
   ]
  },
  {
   "cell_type": "code",
   "execution_count": 31,
   "metadata": {},
   "outputs": [
    {
     "name": "stderr",
     "output_type": "stream",
     "text": [
      "100%|██████████| 30/30 [00:09<00:00,  3.00it/s]\n"
     ]
    }
   ],
   "source": [
    "lstm_results = bootstrap_evaluation(lstm)"
   ]
  },
  {
   "cell_type": "code",
   "execution_count": 32,
   "metadata": {},
   "outputs": [
    {
     "name": "stdout",
     "output_type": "stream",
     "text": [
      "\u001b[1m1/1\u001b[0m \u001b[32m━━━━━━━━━━━━━━━━━━━━\u001b[0m\u001b[37m\u001b[0m \u001b[1m0s\u001b[0m 15ms/step\n",
      "Je: O\n",
      "veux: O\n",
      "prendre: O\n",
      "un: O\n",
      "vol: O\n",
      "de: O\n",
      "Montpellier: LOC-DEP\n",
      "à: O\n",
      "Paris: LOC-ARR\n",
      ".: O\n"
     ]
    }
   ],
   "source": [
    "test_sentence = \"Je veux prendre un vol de Montpellier à Paris.\"\n",
    "\n",
    "test_pred = predict(test_sentence, lstm)"
   ]
  },
  {
   "cell_type": "code",
   "execution_count": 33,
   "metadata": {},
   "outputs": [
    {
     "data": {
      "text/html": [
       "<pre style=\"white-space:pre;overflow-x:auto;line-height:normal;font-family:Menlo,'DejaVu Sans Mono',consolas,'Courier New',monospace\"><span style=\"font-weight: bold\">Model: \"sequential\"</span>\n",
       "</pre>\n"
      ],
      "text/plain": [
       "\u001b[1mModel: \"sequential\"\u001b[0m\n"
      ]
     },
     "metadata": {},
     "output_type": "display_data"
    },
    {
     "data": {
      "text/html": [
       "<pre style=\"white-space:pre;overflow-x:auto;line-height:normal;font-family:Menlo,'DejaVu Sans Mono',consolas,'Courier New',monospace\">┏━━━━━━━━━━━━━━━━━━━━━━━━━━━━━━━━━┳━━━━━━━━━━━━━━━━━━━━━━━━┳━━━━━━━━━━━━━━━┓\n",
       "┃<span style=\"font-weight: bold\"> Layer (type)                    </span>┃<span style=\"font-weight: bold\"> Output Shape           </span>┃<span style=\"font-weight: bold\">       Param # </span>┃\n",
       "┡━━━━━━━━━━━━━━━━━━━━━━━━━━━━━━━━━╇━━━━━━━━━━━━━━━━━━━━━━━━╇━━━━━━━━━━━━━━━┩\n",
       "│ embedding (<span style=\"color: #0087ff; text-decoration-color: #0087ff\">Embedding</span>)           │ (<span style=\"color: #00d7ff; text-decoration-color: #00d7ff\">None</span>, <span style=\"color: #00af00; text-decoration-color: #00af00\">100</span>, <span style=\"color: #00af00; text-decoration-color: #00af00\">100</span>)       │       <span style=\"color: #00af00; text-decoration-color: #00af00\">500,000</span> │\n",
       "├─────────────────────────────────┼────────────────────────┼───────────────┤\n",
       "│ lstm (<span style=\"color: #0087ff; text-decoration-color: #0087ff\">LSTM</span>)                     │ (<span style=\"color: #00d7ff; text-decoration-color: #00d7ff\">None</span>, <span style=\"color: #00af00; text-decoration-color: #00af00\">100</span>, <span style=\"color: #00af00; text-decoration-color: #00af00\">100</span>)       │        <span style=\"color: #00af00; text-decoration-color: #00af00\">80,400</span> │\n",
       "├─────────────────────────────────┼────────────────────────┼───────────────┤\n",
       "│ dropout (<span style=\"color: #0087ff; text-decoration-color: #0087ff\">Dropout</span>)               │ (<span style=\"color: #00d7ff; text-decoration-color: #00d7ff\">None</span>, <span style=\"color: #00af00; text-decoration-color: #00af00\">100</span>, <span style=\"color: #00af00; text-decoration-color: #00af00\">100</span>)       │             <span style=\"color: #00af00; text-decoration-color: #00af00\">0</span> │\n",
       "├─────────────────────────────────┼────────────────────────┼───────────────┤\n",
       "│ dense (<span style=\"color: #0087ff; text-decoration-color: #0087ff\">Dense</span>)                   │ (<span style=\"color: #00d7ff; text-decoration-color: #00d7ff\">None</span>, <span style=\"color: #00af00; text-decoration-color: #00af00\">100</span>, <span style=\"color: #00af00; text-decoration-color: #00af00\">3</span>)         │           <span style=\"color: #00af00; text-decoration-color: #00af00\">303</span> │\n",
       "└─────────────────────────────────┴────────────────────────┴───────────────┘\n",
       "</pre>\n"
      ],
      "text/plain": [
       "┏━━━━━━━━━━━━━━━━━━━━━━━━━━━━━━━━━┳━━━━━━━━━━━━━━━━━━━━━━━━┳━━━━━━━━━━━━━━━┓\n",
       "┃\u001b[1m \u001b[0m\u001b[1mLayer (type)                   \u001b[0m\u001b[1m \u001b[0m┃\u001b[1m \u001b[0m\u001b[1mOutput Shape          \u001b[0m\u001b[1m \u001b[0m┃\u001b[1m \u001b[0m\u001b[1m      Param #\u001b[0m\u001b[1m \u001b[0m┃\n",
       "┡━━━━━━━━━━━━━━━━━━━━━━━━━━━━━━━━━╇━━━━━━━━━━━━━━━━━━━━━━━━╇━━━━━━━━━━━━━━━┩\n",
       "│ embedding (\u001b[38;5;33mEmbedding\u001b[0m)           │ (\u001b[38;5;45mNone\u001b[0m, \u001b[38;5;34m100\u001b[0m, \u001b[38;5;34m100\u001b[0m)       │       \u001b[38;5;34m500,000\u001b[0m │\n",
       "├─────────────────────────────────┼────────────────────────┼───────────────┤\n",
       "│ lstm (\u001b[38;5;33mLSTM\u001b[0m)                     │ (\u001b[38;5;45mNone\u001b[0m, \u001b[38;5;34m100\u001b[0m, \u001b[38;5;34m100\u001b[0m)       │        \u001b[38;5;34m80,400\u001b[0m │\n",
       "├─────────────────────────────────┼────────────────────────┼───────────────┤\n",
       "│ dropout (\u001b[38;5;33mDropout\u001b[0m)               │ (\u001b[38;5;45mNone\u001b[0m, \u001b[38;5;34m100\u001b[0m, \u001b[38;5;34m100\u001b[0m)       │             \u001b[38;5;34m0\u001b[0m │\n",
       "├─────────────────────────────────┼────────────────────────┼───────────────┤\n",
       "│ dense (\u001b[38;5;33mDense\u001b[0m)                   │ (\u001b[38;5;45mNone\u001b[0m, \u001b[38;5;34m100\u001b[0m, \u001b[38;5;34m3\u001b[0m)         │           \u001b[38;5;34m303\u001b[0m │\n",
       "└─────────────────────────────────┴────────────────────────┴───────────────┘\n"
      ]
     },
     "metadata": {},
     "output_type": "display_data"
    },
    {
     "data": {
      "text/html": [
       "<pre style=\"white-space:pre;overflow-x:auto;line-height:normal;font-family:Menlo,'DejaVu Sans Mono',consolas,'Courier New',monospace\"><span style=\"font-weight: bold\"> Total params: </span><span style=\"color: #00af00; text-decoration-color: #00af00\">1,742,111</span> (6.65 MB)\n",
       "</pre>\n"
      ],
      "text/plain": [
       "\u001b[1m Total params: \u001b[0m\u001b[38;5;34m1,742,111\u001b[0m (6.65 MB)\n"
      ]
     },
     "metadata": {},
     "output_type": "display_data"
    },
    {
     "data": {
      "text/html": [
       "<pre style=\"white-space:pre;overflow-x:auto;line-height:normal;font-family:Menlo,'DejaVu Sans Mono',consolas,'Courier New',monospace\"><span style=\"font-weight: bold\"> Trainable params: </span><span style=\"color: #00af00; text-decoration-color: #00af00\">580,703</span> (2.22 MB)\n",
       "</pre>\n"
      ],
      "text/plain": [
       "\u001b[1m Trainable params: \u001b[0m\u001b[38;5;34m580,703\u001b[0m (2.22 MB)\n"
      ]
     },
     "metadata": {},
     "output_type": "display_data"
    },
    {
     "data": {
      "text/html": [
       "<pre style=\"white-space:pre;overflow-x:auto;line-height:normal;font-family:Menlo,'DejaVu Sans Mono',consolas,'Courier New',monospace\"><span style=\"font-weight: bold\"> Non-trainable params: </span><span style=\"color: #00af00; text-decoration-color: #00af00\">0</span> (0.00 B)\n",
       "</pre>\n"
      ],
      "text/plain": [
       "\u001b[1m Non-trainable params: \u001b[0m\u001b[38;5;34m0\u001b[0m (0.00 B)\n"
      ]
     },
     "metadata": {},
     "output_type": "display_data"
    },
    {
     "data": {
      "text/html": [
       "<pre style=\"white-space:pre;overflow-x:auto;line-height:normal;font-family:Menlo,'DejaVu Sans Mono',consolas,'Courier New',monospace\"><span style=\"font-weight: bold\"> Optimizer params: </span><span style=\"color: #00af00; text-decoration-color: #00af00\">1,161,408</span> (4.43 MB)\n",
       "</pre>\n"
      ],
      "text/plain": [
       "\u001b[1m Optimizer params: \u001b[0m\u001b[38;5;34m1,161,408\u001b[0m (4.43 MB)\n"
      ]
     },
     "metadata": {},
     "output_type": "display_data"
    }
   ],
   "source": [
    "lstm.summary()"
   ]
  },
  {
   "cell_type": "markdown",
   "metadata": {},
   "source": [
    "### Conclusion of using LSTM\n",
    "\n",
    "The limitation of a simple LSTM is that the inputs are treated **sequentially**. Which means that it does not benefit from the context of the words that comes after, only what comes before. Therefore, we will try the **BiLSTM model** hoping that treating the sentence from both sides will leverage more context.\n"
   ]
  },
  {
   "cell_type": "markdown",
   "metadata": {},
   "source": [
    "## BiLSTM\n",
    "\n",
    "As mentioned in the previous section, we will be testing a **Bidirectional LSTM** model in order to improve performance.\n"
   ]
  },
  {
   "cell_type": "markdown",
   "metadata": {},
   "source": [
    "![](./assets/bi-lstm.png)\n"
   ]
  },
  {
   "cell_type": "code",
   "execution_count": 34,
   "metadata": {},
   "outputs": [],
   "source": [
    "bilstm = tf.keras.models.Sequential(\n",
    "    layers=[\n",
    "        tf.keras.layers.Embedding(len(vocab) + 1, MAX_LEN, mask_zero=True),\n",
    "        tf.keras.layers.Bidirectional(\n",
    "            tf.keras.layers.LSTM(MAX_LEN, return_sequences=True)\n",
    "        ),\n",
    "        tf.keras.layers.Dropout(0.3),\n",
    "        tf.keras.layers.Dense(len(unique_labels), activation=tf.nn.log_softmax),\n",
    "    ]\n",
    ")"
   ]
  },
  {
   "cell_type": "code",
   "execution_count": 35,
   "metadata": {},
   "outputs": [],
   "source": [
    "bilstm.compile(\n",
    "    optimizer=tf.keras.optimizers.Adam(0.01),\n",
    "    loss=masked_loss,\n",
    "    metrics=[masked_accuracy],\n",
    ")"
   ]
  },
  {
   "cell_type": "code",
   "execution_count": 36,
   "metadata": {},
   "outputs": [
    {
     "data": {
      "text/html": [
       "<pre style=\"white-space:pre;overflow-x:auto;line-height:normal;font-family:Menlo,'DejaVu Sans Mono',consolas,'Courier New',monospace\"><span style=\"font-weight: bold\">Model: \"sequential_1\"</span>\n",
       "</pre>\n"
      ],
      "text/plain": [
       "\u001b[1mModel: \"sequential_1\"\u001b[0m\n"
      ]
     },
     "metadata": {},
     "output_type": "display_data"
    },
    {
     "data": {
      "text/html": [
       "<pre style=\"white-space:pre;overflow-x:auto;line-height:normal;font-family:Menlo,'DejaVu Sans Mono',consolas,'Courier New',monospace\">┏━━━━━━━━━━━━━━━━━━━━━━━━━━━━━━━━━┳━━━━━━━━━━━━━━━━━━━━━━━━┳━━━━━━━━━━━━━━━┓\n",
       "┃<span style=\"font-weight: bold\"> Layer (type)                    </span>┃<span style=\"font-weight: bold\"> Output Shape           </span>┃<span style=\"font-weight: bold\">       Param # </span>┃\n",
       "┡━━━━━━━━━━━━━━━━━━━━━━━━━━━━━━━━━╇━━━━━━━━━━━━━━━━━━━━━━━━╇━━━━━━━━━━━━━━━┩\n",
       "│ embedding_1 (<span style=\"color: #0087ff; text-decoration-color: #0087ff\">Embedding</span>)         │ ?                      │   <span style=\"color: #00af00; text-decoration-color: #00af00\">0</span> (unbuilt) │\n",
       "├─────────────────────────────────┼────────────────────────┼───────────────┤\n",
       "│ bidirectional (<span style=\"color: #0087ff; text-decoration-color: #0087ff\">Bidirectional</span>)   │ ?                      │   <span style=\"color: #00af00; text-decoration-color: #00af00\">0</span> (unbuilt) │\n",
       "├─────────────────────────────────┼────────────────────────┼───────────────┤\n",
       "│ dropout_1 (<span style=\"color: #0087ff; text-decoration-color: #0087ff\">Dropout</span>)             │ ?                      │             <span style=\"color: #00af00; text-decoration-color: #00af00\">0</span> │\n",
       "├─────────────────────────────────┼────────────────────────┼───────────────┤\n",
       "│ dense_1 (<span style=\"color: #0087ff; text-decoration-color: #0087ff\">Dense</span>)                 │ ?                      │   <span style=\"color: #00af00; text-decoration-color: #00af00\">0</span> (unbuilt) │\n",
       "└─────────────────────────────────┴────────────────────────┴───────────────┘\n",
       "</pre>\n"
      ],
      "text/plain": [
       "┏━━━━━━━━━━━━━━━━━━━━━━━━━━━━━━━━━┳━━━━━━━━━━━━━━━━━━━━━━━━┳━━━━━━━━━━━━━━━┓\n",
       "┃\u001b[1m \u001b[0m\u001b[1mLayer (type)                   \u001b[0m\u001b[1m \u001b[0m┃\u001b[1m \u001b[0m\u001b[1mOutput Shape          \u001b[0m\u001b[1m \u001b[0m┃\u001b[1m \u001b[0m\u001b[1m      Param #\u001b[0m\u001b[1m \u001b[0m┃\n",
       "┡━━━━━━━━━━━━━━━━━━━━━━━━━━━━━━━━━╇━━━━━━━━━━━━━━━━━━━━━━━━╇━━━━━━━━━━━━━━━┩\n",
       "│ embedding_1 (\u001b[38;5;33mEmbedding\u001b[0m)         │ ?                      │   \u001b[38;5;34m0\u001b[0m (unbuilt) │\n",
       "├─────────────────────────────────┼────────────────────────┼───────────────┤\n",
       "│ bidirectional (\u001b[38;5;33mBidirectional\u001b[0m)   │ ?                      │   \u001b[38;5;34m0\u001b[0m (unbuilt) │\n",
       "├─────────────────────────────────┼────────────────────────┼───────────────┤\n",
       "│ dropout_1 (\u001b[38;5;33mDropout\u001b[0m)             │ ?                      │             \u001b[38;5;34m0\u001b[0m │\n",
       "├─────────────────────────────────┼────────────────────────┼───────────────┤\n",
       "│ dense_1 (\u001b[38;5;33mDense\u001b[0m)                 │ ?                      │   \u001b[38;5;34m0\u001b[0m (unbuilt) │\n",
       "└─────────────────────────────────┴────────────────────────┴───────────────┘\n"
      ]
     },
     "metadata": {},
     "output_type": "display_data"
    },
    {
     "data": {
      "text/html": [
       "<pre style=\"white-space:pre;overflow-x:auto;line-height:normal;font-family:Menlo,'DejaVu Sans Mono',consolas,'Courier New',monospace\"><span style=\"font-weight: bold\"> Total params: </span><span style=\"color: #00af00; text-decoration-color: #00af00\">0</span> (0.00 B)\n",
       "</pre>\n"
      ],
      "text/plain": [
       "\u001b[1m Total params: \u001b[0m\u001b[38;5;34m0\u001b[0m (0.00 B)\n"
      ]
     },
     "metadata": {},
     "output_type": "display_data"
    },
    {
     "data": {
      "text/html": [
       "<pre style=\"white-space:pre;overflow-x:auto;line-height:normal;font-family:Menlo,'DejaVu Sans Mono',consolas,'Courier New',monospace\"><span style=\"font-weight: bold\"> Trainable params: </span><span style=\"color: #00af00; text-decoration-color: #00af00\">0</span> (0.00 B)\n",
       "</pre>\n"
      ],
      "text/plain": [
       "\u001b[1m Trainable params: \u001b[0m\u001b[38;5;34m0\u001b[0m (0.00 B)\n"
      ]
     },
     "metadata": {},
     "output_type": "display_data"
    },
    {
     "data": {
      "text/html": [
       "<pre style=\"white-space:pre;overflow-x:auto;line-height:normal;font-family:Menlo,'DejaVu Sans Mono',consolas,'Courier New',monospace\"><span style=\"font-weight: bold\"> Non-trainable params: </span><span style=\"color: #00af00; text-decoration-color: #00af00\">0</span> (0.00 B)\n",
       "</pre>\n"
      ],
      "text/plain": [
       "\u001b[1m Non-trainable params: \u001b[0m\u001b[38;5;34m0\u001b[0m (0.00 B)\n"
      ]
     },
     "metadata": {},
     "output_type": "display_data"
    }
   ],
   "source": [
    "bilstm.summary()"
   ]
  },
  {
   "cell_type": "code",
   "execution_count": 37,
   "metadata": {},
   "outputs": [
    {
     "name": "stdout",
     "output_type": "stream",
     "text": [
      "Epoch 1/10\n",
      "\u001b[1m148/148\u001b[0m \u001b[32m━━━━━━━━━━━━━━━━━━━━\u001b[0m\u001b[37m\u001b[0m \u001b[1m15s\u001b[0m 92ms/step - loss: 0.1858 - masked_accuracy: 0.9354 - val_loss: 0.0052 - val_masked_accuracy: 0.9984\n",
      "Epoch 2/10\n",
      "\u001b[1m148/148\u001b[0m \u001b[32m━━━━━━━━━━━━━━━━━━━━\u001b[0m\u001b[37m\u001b[0m \u001b[1m18s\u001b[0m 124ms/step - loss: 0.0041 - masked_accuracy: 0.9987 - val_loss: 0.0018 - val_masked_accuracy: 0.9994\n"
     ]
    },
    {
     "data": {
      "text/plain": [
       "<keras.src.callbacks.history.History at 0x295cb68a0>"
      ]
     },
     "execution_count": 37,
     "metadata": {},
     "output_type": "execute_result"
    }
   ],
   "source": [
    "bilstm.fit(\n",
    "    train_dataset.batch(64),\n",
    "    validation_data=test_dataset.batch(64),\n",
    "    epochs=10,\n",
    "    shuffle=True,\n",
    "    callbacks=[\n",
    "        tf.keras.callbacks.EarlyStopping(\n",
    "            monitor=\"val_loss\", min_delta=0.01, restore_best_weights=True\n",
    "        )\n",
    "    ],\n",
    ")"
   ]
  },
  {
   "cell_type": "code",
   "execution_count": 38,
   "metadata": {},
   "outputs": [
    {
     "name": "stdout",
     "output_type": "stream",
     "text": [
      "\u001b[1m24/24\u001b[0m \u001b[32m━━━━━━━━━━━━━━━━━━━━\u001b[0m\u001b[37m\u001b[0m \u001b[1m1s\u001b[0m 20ms/step\n",
      "\u001b[1m4/4\u001b[0m \u001b[32m━━━━━━━━━━━━━━━━━━━━\u001b[0m\u001b[37m\u001b[0m \u001b[1m0s\u001b[0m 13ms/step\n",
      "\u001b[1m3/3\u001b[0m \u001b[32m━━━━━━━━━━━━━━━━━━━━\u001b[0m\u001b[37m\u001b[0m \u001b[1m0s\u001b[0m 14ms/step\n"
     ]
    }
   ],
   "source": [
    "blstm_eval_short_predictions = bilstm.predict(encoded_eval_short_sentences)\n",
    "blstm_eval_unlabeled_predictions = bilstm.predict(encoded_eval_unlabeled_sentences)\n",
    "blstm_eval_large_predictions = bilstm.predict(encoded_eval_large_sentences)"
   ]
  },
  {
   "cell_type": "code",
   "execution_count": 39,
   "metadata": {},
   "outputs": [
    {
     "name": "stderr",
     "output_type": "stream",
     "text": [
      "100%|██████████| 30/30 [00:21<00:00,  1.42it/s]\n"
     ]
    }
   ],
   "source": [
    "bilstm_results = bootstrap_evaluation(bilstm)"
   ]
  },
  {
   "cell_type": "code",
   "execution_count": 40,
   "metadata": {},
   "outputs": [
    {
     "data": {
      "image/png": "[encoded data removed]",
      "text/plain": [
       "<Figure size 1000x3000 with 6 Axes>"
      ]
     },
     "metadata": {},
     "output_type": "display_data"
    }
   ],
   "source": [
    "fig, axs = plt.subplots(3, 1, figsize=(10, 30))\n",
    "\n",
    "confusion_matrix(\n",
    "    padded_eval_short_labels,\n",
    "    blstm_eval_short_predictions,\n",
    "    unique_labels,\n",
    "    title=\"Confusion matrix for LSTM on evaluation (short sentences) dataset\",\n",
    "    return_ax=True,\n",
    "    ax=axs[0],\n",
    ")\n",
    "\n",
    "confusion_matrix(\n",
    "    padded_eval_unlabeled_labels,\n",
    "    blstm_eval_unlabeled_predictions,\n",
    "    unique_labels,\n",
    "    title=\"Confusion matrix for LSTM on evaluation (unlabeled sentences) dataset\",\n",
    "    return_ax=True,\n",
    "    ax=axs[1],\n",
    ")\n",
    "\n",
    "confusion_matrix(\n",
    "    padded_eval_large_labels,\n",
    "    blstm_eval_large_predictions,\n",
    "    unique_labels,\n",
    "    title=\"Confusion matrix for LSTM on evaluation (large sentences) dataset\",\n",
    "    return_ax=True,\n",
    "    ax=axs[2],\n",
    ")\n",
    "\n",
    "plt.show()"
   ]
  },
  {
   "cell_type": "code",
   "execution_count": 41,
   "metadata": {},
   "outputs": [
    {
     "name": "stdout",
     "output_type": "stream",
     "text": [
      "\u001b[1m1/1\u001b[0m \u001b[32m━━━━━━━━━━━━━━━━━━━━\u001b[0m\u001b[37m\u001b[0m \u001b[1m0s\u001b[0m 13ms/step\n",
      "Je: O\n",
      "pensais: O\n",
      "partir: O\n",
      "de: O\n",
      "Bangkok: LOC-DEP\n",
      ".: O\n",
      "Mais: O\n",
      "finalement: O\n",
      ",: O\n",
      "je: O\n",
      "vais: O\n",
      "devoir: O\n",
      "trouver: O\n",
      "un: O\n",
      "voyage: O\n",
      "de: O\n",
      "Tokyo: LOC-DEP\n",
      "vers: O\n",
      "Osaka: LOC-DEP\n",
      ".: O\n"
     ]
    }
   ],
   "source": [
    "test_sentence = \"Je pensais partir de Bangkok. Mais finalement, je vais devoir trouver un voyage de Tokyo vers Osaka.\"\n",
    "\n",
    "\n",
    "p = predict(test_sentence, lstm)"
   ]
  },
  {
   "cell_type": "markdown",
   "metadata": {},
   "source": [
    "## BERT\n"
   ]
  },
  {
   "cell_type": "markdown",
   "metadata": {},
   "source": [
    "The tokenizer used will be CNRS' [FlauBERT](https://huggingface.co/flaubert/flaubert_base_uncased) which has been trained on a large heterogeneous French corpus.\n"
   ]
  },
  {
   "cell_type": "code",
   "execution_count": 60,
   "metadata": {},
   "outputs": [],
   "source": [
    "import tensorflow as tf\n",
    "from transformers import TFBertForTokenClassification, BertTokenizer\n",
    "import numpy as np\n",
    "\n",
    "tokenizer = BertTokenizer.from_pretrained(\"bert-base-uncased\")"
   ]
  },
  {
   "cell_type": "code",
   "execution_count": 62,
   "metadata": {},
   "outputs": [],
   "source": [
    "input_ids = []\n",
    "attention_masks = []\n",
    "\n",
    "for sentence in sentences:\n",
    "    encoding = tokenizer(\n",
    "        sentence.split(),\n",
    "        is_split_into_words=True,\n",
    "        padding=\"max_length\",\n",
    "        truncation=True,\n",
    "        max_length=MAX_LEN,\n",
    "    )\n",
    "    input_ids.append(encoding[\"input_ids\"])\n",
    "    attention_masks.append(encoding[\"attention_mask\"])\n",
    "\n",
    "input_ids = np.array(input_ids)\n",
    "attention_masks = np.array(attention_masks)"
   ]
  },
  {
   "cell_type": "code",
   "execution_count": null,
   "metadata": {},
   "outputs": [
    {
     "name": "stderr",
     "output_type": "stream",
     "text": [
      "2024-11-29 17:41:41.086543: I tensorflow/core/framework/local_rendezvous.cc:404] Local rendezvous is aborting with status: OUT_OF_RANGE: End of sequence\n"
     ]
    }
   ],
   "source": [
    "train_dataset = tf.data.Dataset.from_tensor_slices(\n",
    "    (\n",
    "        {\n",
    "            \"input_ids\": input_ids,\n",
    "            \"attention_mask\": attention_masks,\n",
    "        },\n",
    "        padded_labels,\n",
    "    )\n",
    ")\n",
    "\n",
    "train_dataset, test_dataset = tf.keras.utils.split_dataset(train_dataset, left_size=0.8)"
   ]
  },
  {
   "cell_type": "code",
   "execution_count": 68,
   "metadata": {},
   "outputs": [
    {
     "name": "stderr",
     "output_type": "stream",
     "text": [
      "All PyTorch model weights were used when initializing TFBertForTokenClassification.\n",
      "\n",
      "Some weights or buffers of the TF 2.0 model TFBertForTokenClassification were not initialized from the PyTorch model and are newly initialized: ['classifier.weight', 'classifier.bias']\n",
      "You should probably TRAIN this model on a down-stream task to be able to use it for predictions and inference.\n"
     ]
    },
    {
     "ename": "ValueError",
     "evalue": "Could not interpret optimizer identifier: <keras.src.optimizers.adam.Adam object at 0x2974f2240>",
     "output_type": "error",
     "traceback": [
      "\u001b[0;31m---------------------------------------------------------------------------\u001b[0m",
      "\u001b[0;31mValueError\u001b[0m                                Traceback (most recent call last)",
      "Cell \u001b[0;32mIn[68], line 5\u001b[0m\n\u001b[1;32m      1\u001b[0m bert \u001b[38;5;241m=\u001b[39m TFBertForTokenClassification\u001b[38;5;241m.\u001b[39mfrom_pretrained(\n\u001b[1;32m      2\u001b[0m     \u001b[38;5;124m\"\u001b[39m\u001b[38;5;124mbert-base-uncased\u001b[39m\u001b[38;5;124m\"\u001b[39m, num_labels\u001b[38;5;241m=\u001b[39m\u001b[38;5;28mlen\u001b[39m(unique_labels)\n\u001b[1;32m      3\u001b[0m )\n\u001b[0;32m----> 5\u001b[0m \u001b[43mbert\u001b[49m\u001b[38;5;241;43m.\u001b[39;49m\u001b[43mcompile\u001b[49m\u001b[43m(\u001b[49m\n\u001b[1;32m      6\u001b[0m \u001b[43m    \u001b[49m\u001b[43moptimizer\u001b[49m\u001b[38;5;241;43m=\u001b[39;49m\u001b[43mtf\u001b[49m\u001b[38;5;241;43m.\u001b[39;49m\u001b[43mkeras\u001b[49m\u001b[38;5;241;43m.\u001b[39;49m\u001b[43moptimizers\u001b[49m\u001b[38;5;241;43m.\u001b[39;49m\u001b[43mAdam\u001b[49m\u001b[43m(\u001b[49m\u001b[43mlearning_rate\u001b[49m\u001b[38;5;241;43m=\u001b[39;49m\u001b[38;5;241;43m5e-5\u001b[39;49m\u001b[43m)\u001b[49m\u001b[43m,\u001b[49m\n\u001b[1;32m      7\u001b[0m \u001b[43m    \u001b[49m\u001b[43mloss\u001b[49m\u001b[38;5;241;43m=\u001b[39;49m\u001b[43mtf\u001b[49m\u001b[38;5;241;43m.\u001b[39;49m\u001b[43mkeras\u001b[49m\u001b[38;5;241;43m.\u001b[39;49m\u001b[43mlosses\u001b[49m\u001b[38;5;241;43m.\u001b[39;49m\u001b[43mSparseCategoricalCrossentropy\u001b[49m\u001b[43m(\u001b[49m\u001b[43mfrom_logits\u001b[49m\u001b[38;5;241;43m=\u001b[39;49m\u001b[38;5;28;43;01mTrue\u001b[39;49;00m\u001b[43m)\u001b[49m\u001b[43m,\u001b[49m\n\u001b[1;32m      8\u001b[0m \u001b[43m    \u001b[49m\u001b[43mmetrics\u001b[49m\u001b[38;5;241;43m=\u001b[39;49m\u001b[43m[\u001b[49m\u001b[43mmasked_accuracy\u001b[49m\u001b[43m]\u001b[49m\u001b[43m,\u001b[49m\n\u001b[1;32m      9\u001b[0m \u001b[43m)\u001b[49m\n",
      "File \u001b[0;32m~/Developer/TravelOrderResolver/venv/lib/python3.12/site-packages/transformers/modeling_tf_utils.py:1563\u001b[0m, in \u001b[0;36mTFPreTrainedModel.compile\u001b[0;34m(self, optimizer, loss, metrics, loss_weights, weighted_metrics, run_eagerly, steps_per_execution, **kwargs)\u001b[0m\n\u001b[1;32m   1561\u001b[0m \u001b[38;5;66;03m# This argument got renamed, we need to support both versions\u001b[39;00m\n\u001b[1;32m   1562\u001b[0m \u001b[38;5;28;01mif\u001b[39;00m \u001b[38;5;124m\"\u001b[39m\u001b[38;5;124msteps_per_execution\u001b[39m\u001b[38;5;124m\"\u001b[39m \u001b[38;5;129;01min\u001b[39;00m parent_args:\n\u001b[0;32m-> 1563\u001b[0m     \u001b[38;5;28;43msuper\u001b[39;49m\u001b[43m(\u001b[49m\u001b[43m)\u001b[49m\u001b[38;5;241;43m.\u001b[39;49m\u001b[43mcompile\u001b[49m\u001b[43m(\u001b[49m\n\u001b[1;32m   1564\u001b[0m \u001b[43m        \u001b[49m\u001b[43moptimizer\u001b[49m\u001b[38;5;241;43m=\u001b[39;49m\u001b[43moptimizer\u001b[49m\u001b[43m,\u001b[49m\n\u001b[1;32m   1565\u001b[0m \u001b[43m        \u001b[49m\u001b[43mloss\u001b[49m\u001b[38;5;241;43m=\u001b[39;49m\u001b[43mloss\u001b[49m\u001b[43m,\u001b[49m\n\u001b[1;32m   1566\u001b[0m \u001b[43m        \u001b[49m\u001b[43mmetrics\u001b[49m\u001b[38;5;241;43m=\u001b[39;49m\u001b[43mmetrics\u001b[49m\u001b[43m,\u001b[49m\n\u001b[1;32m   1567\u001b[0m \u001b[43m        \u001b[49m\u001b[43mloss_weights\u001b[49m\u001b[38;5;241;43m=\u001b[39;49m\u001b[43mloss_weights\u001b[49m\u001b[43m,\u001b[49m\n\u001b[1;32m   1568\u001b[0m \u001b[43m        \u001b[49m\u001b[43mweighted_metrics\u001b[49m\u001b[38;5;241;43m=\u001b[39;49m\u001b[43mweighted_metrics\u001b[49m\u001b[43m,\u001b[49m\n\u001b[1;32m   1569\u001b[0m \u001b[43m        \u001b[49m\u001b[43mrun_eagerly\u001b[49m\u001b[38;5;241;43m=\u001b[39;49m\u001b[43mrun_eagerly\u001b[49m\u001b[43m,\u001b[49m\n\u001b[1;32m   1570\u001b[0m \u001b[43m        \u001b[49m\u001b[43msteps_per_execution\u001b[49m\u001b[38;5;241;43m=\u001b[39;49m\u001b[43msteps_per_execution\u001b[49m\u001b[43m,\u001b[49m\n\u001b[1;32m   1571\u001b[0m \u001b[43m        \u001b[49m\u001b[38;5;241;43m*\u001b[39;49m\u001b[38;5;241;43m*\u001b[39;49m\u001b[43mkwargs\u001b[49m\u001b[43m,\u001b[49m\n\u001b[1;32m   1572\u001b[0m \u001b[43m    \u001b[49m\u001b[43m)\u001b[49m\n\u001b[1;32m   1573\u001b[0m \u001b[38;5;28;01melse\u001b[39;00m:\n\u001b[1;32m   1574\u001b[0m     \u001b[38;5;28msuper\u001b[39m()\u001b[38;5;241m.\u001b[39mcompile(\n\u001b[1;32m   1575\u001b[0m         optimizer\u001b[38;5;241m=\u001b[39moptimizer,\n\u001b[1;32m   1576\u001b[0m         loss\u001b[38;5;241m=\u001b[39mloss,\n\u001b[0;32m   (...)\u001b[0m\n\u001b[1;32m   1582\u001b[0m         \u001b[38;5;241m*\u001b[39m\u001b[38;5;241m*\u001b[39mkwargs,\n\u001b[1;32m   1583\u001b[0m     )\n",
      "File \u001b[0;32m~/Developer/TravelOrderResolver/venv/lib/python3.12/site-packages/tf_keras/src/utils/traceback_utils.py:70\u001b[0m, in \u001b[0;36mfilter_traceback.<locals>.error_handler\u001b[0;34m(*args, **kwargs)\u001b[0m\n\u001b[1;32m     67\u001b[0m     filtered_tb \u001b[38;5;241m=\u001b[39m _process_traceback_frames(e\u001b[38;5;241m.\u001b[39m__traceback__)\n\u001b[1;32m     68\u001b[0m     \u001b[38;5;66;03m# To get the full stack trace, call:\u001b[39;00m\n\u001b[1;32m     69\u001b[0m     \u001b[38;5;66;03m# `tf.debugging.disable_traceback_filtering()`\u001b[39;00m\n\u001b[0;32m---> 70\u001b[0m     \u001b[38;5;28;01mraise\u001b[39;00m e\u001b[38;5;241m.\u001b[39mwith_traceback(filtered_tb) \u001b[38;5;28;01mfrom\u001b[39;00m \u001b[38;5;28;01mNone\u001b[39;00m\n\u001b[1;32m     71\u001b[0m \u001b[38;5;28;01mfinally\u001b[39;00m:\n\u001b[1;32m     72\u001b[0m     \u001b[38;5;28;01mdel\u001b[39;00m filtered_tb\n",
      "File \u001b[0;32m~/Developer/TravelOrderResolver/venv/lib/python3.12/site-packages/tf_keras/src/optimizers/__init__.py:335\u001b[0m, in \u001b[0;36mget\u001b[0;34m(identifier, **kwargs)\u001b[0m\n\u001b[1;32m    330\u001b[0m     \u001b[38;5;28;01mreturn\u001b[39;00m get(\n\u001b[1;32m    331\u001b[0m         config,\n\u001b[1;32m    332\u001b[0m         use_legacy_optimizer\u001b[38;5;241m=\u001b[39muse_legacy_optimizer,\n\u001b[1;32m    333\u001b[0m     )\n\u001b[1;32m    334\u001b[0m \u001b[38;5;28;01melse\u001b[39;00m:\n\u001b[0;32m--> 335\u001b[0m     \u001b[38;5;28;01mraise\u001b[39;00m \u001b[38;5;167;01mValueError\u001b[39;00m(\n\u001b[1;32m    336\u001b[0m         \u001b[38;5;124mf\u001b[39m\u001b[38;5;124m\"\u001b[39m\u001b[38;5;124mCould not interpret optimizer identifier: \u001b[39m\u001b[38;5;132;01m{\u001b[39;00midentifier\u001b[38;5;132;01m}\u001b[39;00m\u001b[38;5;124m\"\u001b[39m\n\u001b[1;32m    337\u001b[0m     )\n",
      "\u001b[0;31mValueError\u001b[0m: Could not interpret optimizer identifier: <keras.src.optimizers.adam.Adam object at 0x2974f2240>"
     ]
    }
   ],
   "source": [
    "bert = TFBertForTokenClassification.from_pretrained(\n",
    "    \"bert-base-uncased\", num_labels=len(unique_labels)\n",
    ")\n",
    "\n",
    "bert.compile(\n",
    "    optimizer=tf.keras.optimizers.Adam(learning_rate=5e-5),\n",
    "    loss=tf.keras.losses.SparseCategoricalCrossentropy(from_logits=True),\n",
    "    metrics=[masked_accuracy],\n",
    ")"
   ]
  },
  {
   "cell_type": "markdown",
   "metadata": {},
   "source": [
    "## Prediction Analysis\n"
   ]
  },
  {
   "cell_type": "code",
   "execution_count": 42,
   "metadata": {},
   "outputs": [],
   "source": [
    "from tqdm import tqdm\n",
    "import pandas as pd\n",
    "import numpy as np\n",
    "\n",
    "\n",
    "def mask_predictions(predictions: np.ndarray, labels: np.ndarray, mask=-1):\n",
    "    \"\"\"\n",
    "    Mask the predictions based on the labels.\n",
    "\n",
    "    Parameters:\n",
    "    predictions (tensor): Predicted logits.\n",
    "    labels (tensor): True labels.\n",
    "    mask (int): Mask value.\n",
    "\n",
    "    Returns:\n",
    "    masked_predictions (tensor): Masked predictions.\n",
    "    \"\"\"\n",
    "\n",
    "    # Perform argmax to get the predicted values\n",
    "    predictions_class = np.argmax(predictions, axis=-1)\n",
    "\n",
    "    # Create the mask based on the mask in the labels\n",
    "    mask = np.where(labels == mask, mask, 0)\n",
    "    return predictions_class + mask\n",
    "\n",
    "\n",
    "def get_mistakes_positions(predictions, labels):\n",
    "    masked_predictions = mask_predictions(predictions, labels)\n",
    "    wrong_predictions = np.where(masked_predictions != labels, masked_predictions, -2)\n",
    "    return wrong_predictions\n",
    "\n",
    "\n",
    "def label_pos_freq_in_sentences(\n",
    "    labels,\n",
    "    unique_labels,\n",
    "    title=\"Sentences labels heatmap\",\n",
    "    skip_zero_positions=False,\n",
    "    max_len=None,\n",
    "):\n",
    "    \"\"\"\n",
    "    Generate a heatmap of the sentences and their labels.\n",
    "\n",
    "    Parameters:\n",
    "    labels (list): List of labels in a sentence (it could be predictions)\n",
    "    unique_labels (list): List of unique labels.\n",
    "    title (str): Title of the plot.\n",
    "    \"\"\"\n",
    "    positions_label_counts = {}\n",
    "\n",
    "    for label in tqdm(labels):\n",
    "        length = max_len if max_len else len(label)\n",
    "        for i in range(length):\n",
    "            # skip padding\n",
    "            if label[i] not in unique_labels.values() and not label[i] == -2:\n",
    "                continue\n",
    "            if i not in positions_label_counts:\n",
    "                positions_label_counts[i] = {}\n",
    "                for l in unique_labels.values():\n",
    "                    positions_label_counts[i][l] = 0\n",
    "            if label[i] == -2:\n",
    "                continue\n",
    "            positions_label_counts[i][label[i]] += 1\n",
    "\n",
    "    # Filter out positions where the sum of label counts is zero\n",
    "    hm_data = {\n",
    "        k: v\n",
    "        for k, v in positions_label_counts.items()\n",
    "        if skip_zero_positions and sum(list(v.values())) > 0 or not skip_zero_positions\n",
    "    }\n",
    "    hm_data = pd.DataFrame(hm_data)\n",
    "\n",
    "    # dtype conversion\n",
    "    hm_data = hm_data.astype(float)\n",
    "    hm_data.set_index(pd.Index(unique_labels.keys()), inplace=True)\n",
    "\n",
    "    # normalizing the data per column\n",
    "    hm_data = hm_data.div(hm_data.sum(axis=0), axis=1)\n",
    "\n",
    "    plt.figure(figsize=(20, 10))\n",
    "\n",
    "    sns.heatmap(hm_data, cmap=\"Blues\")\n",
    "\n",
    "    plt.title(title)\n",
    "\n",
    "    plt.show()"
   ]
  },
  {
   "cell_type": "code",
   "execution_count": 43,
   "metadata": {},
   "outputs": [
    {
     "name": "stderr",
     "output_type": "stream",
     "text": [
      "100%|██████████| 757/757 [00:00<00:00, 3648.94it/s]\n"
     ]
    },
    {
     "data": {
      "image/png": "[encoded data removed]",
      "text/plain": [
       "<Figure size 2000x1000 with 2 Axes>"
      ]
     },
     "metadata": {},
     "output_type": "display_data"
    }
   ],
   "source": [
    "label_pos_freq_in_sentences(\n",
    "    padded_eval_short_labels, unique_labels, title=\"Short sentences labels\"\n",
    ")"
   ]
  },
  {
   "cell_type": "code",
   "execution_count": 44,
   "metadata": {},
   "outputs": [
    {
     "name": "stderr",
     "output_type": "stream",
     "text": [
      "100%|██████████| 757/757 [00:00<00:00, 38846.60it/s]\n"
     ]
    },
    {
     "data": {
      "image/png": "[encoded data removed]",
      "text/plain": [
       "<Figure size 2000x1000 with 2 Axes>"
      ]
     },
     "metadata": {},
     "output_type": "display_data"
    }
   ],
   "source": [
    "label_pos_freq_in_sentences(\n",
    "    mask_predictions(blstm_eval_short_predictions, padded_eval_short_labels),\n",
    "    unique_labels,\n",
    "    title=\"Short sentences predictions\",\n",
    ")"
   ]
  },
  {
   "cell_type": "code",
   "execution_count": 45,
   "metadata": {},
   "outputs": [
    {
     "name": "stderr",
     "output_type": "stream",
     "text": [
      "100%|██████████| 757/757 [00:00<00:00, 112867.94it/s]\n"
     ]
    },
    {
     "data": {
      "image/png": "[encoded data removed]",
      "text/plain": [
       "<Figure size 2000x1000 with 2 Axes>"
      ]
     },
     "metadata": {},
     "output_type": "display_data"
    }
   ],
   "source": [
    "label_pos_freq_in_sentences(\n",
    "    get_mistakes_positions(blstm_eval_short_predictions, padded_eval_short_labels),\n",
    "    unique_labels,\n",
    "    title=\"Short sentences mistakes\",\n",
    "    max_len=25,\n",
    ")"
   ]
  },
  {
   "cell_type": "code",
   "execution_count": 46,
   "metadata": {},
   "outputs": [
    {
     "name": "stderr",
     "output_type": "stream",
     "text": [
      "100%|██████████| 95/95 [00:00<00:00, 3023.44it/s]\n"
     ]
    },
    {
     "data": {
      "image/png": "[encoded data removed]",
      "text/plain": [
       "<Figure size 2000x1000 with 2 Axes>"
      ]
     },
     "metadata": {},
     "output_type": "display_data"
    }
   ],
   "source": [
    "label_pos_freq_in_sentences(\n",
    "    padded_eval_large_labels, unique_labels, title=\"Large sentences labels\"\n",
    ")"
   ]
  },
  {
   "cell_type": "code",
   "execution_count": 47,
   "metadata": {},
   "outputs": [
    {
     "name": "stderr",
     "output_type": "stream",
     "text": [
      "100%|██████████| 95/95 [00:00<00:00, 22171.09it/s]\n"
     ]
    },
    {
     "data": {
      "image/png": "[encoded data removed]",
      "text/plain": [
       "<Figure size 2000x1000 with 2 Axes>"
      ]
     },
     "metadata": {},
     "output_type": "display_data"
    }
   ],
   "source": [
    "label_pos_freq_in_sentences(\n",
    "    mask_predictions(blstm_eval_large_predictions, padded_eval_large_labels),\n",
    "    unique_labels,\n",
    "    title=\"Large sentences predictions\",\n",
    ")"
   ]
  },
  {
   "cell_type": "code",
   "execution_count": 48,
   "metadata": {},
   "outputs": [
    {
     "name": "stderr",
     "output_type": "stream",
     "text": [
      "100%|██████████| 95/95 [00:00<00:00, 25462.26it/s]\n"
     ]
    },
    {
     "data": {
      "image/png": "[encoded data removed]",
      "text/plain": [
       "<Figure size 2000x1000 with 2 Axes>"
      ]
     },
     "metadata": {},
     "output_type": "display_data"
    }
   ],
   "source": [
    "label_pos_freq_in_sentences(\n",
    "    get_mistakes_positions(blstm_eval_large_predictions, padded_eval_large_labels),\n",
    "    unique_labels,\n",
    "    title=\"Large sentences mistakes\",\n",
    "    skip_zero_positions=False,\n",
    ")"
   ]
  },
  {
   "cell_type": "code",
   "execution_count": 55,
   "metadata": {},
   "outputs": [
    {
     "data": {
      "application/vnd.plotly.v1+json": {
       "config": {
        "plotlyServerURL": "https://plot.ly"
       },
       "data": [
        {
         "boxmean": true,
         "boxpoints": "all",
         "marker": {
          "color": "blue"
         },
         "name": "LSTM",
         "type": "box",
         "y": [
          0.9510957598686218,
          0.9536213278770447,
          0.9547458291053772,
          0.9553282856941223,
          0.9541631937026978,
          0.9553608298301697,
          0.9522392153739929,
          0.9561025500297546,
          0.9562822580337524,
          0.9534673690795898,
          0.9566707611083984,
          0.9572548866271973,
          0.9536139369010925,
          0.9531607627868652,
          0.9541990160942078,
          0.9530026316642761,
          0.9559134840965271,
          0.953179657459259,
          0.9567181468009949,
          0.9536169171333313,
          0.9566499590873718,
          0.9501632452011108,
          0.9519867300987244,
          0.9592800140380859,
          0.9572415947914124,
          0.9545236825942993,
          0.9574411511421204,
          0.9540425539016724,
          0.9544942378997803,
          0.9552868604660034
         ]
        },
        {
         "boxmean": true,
         "boxpoints": "all",
         "marker": {
          "color": "red"
         },
         "name": "BiLSTM",
         "type": "box",
         "y": [
          0.9701259136199951,
          0.9699695110321045,
          0.9688578844070435,
          0.9686369299888611,
          0.9711456894874573,
          0.9720028638839722,
          0.9701927900314331,
          0.9701628088951111,
          0.9697527885437012,
          0.9684955477714539,
          0.9711631536483765,
          0.969836950302124,
          0.9699819087982178,
          0.9702179431915283,
          0.9719061851501465,
          0.9732733368873596,
          0.9708333611488342,
          0.9713547229766846,
          0.9699570536613464,
          0.9725130796432495,
          0.9685912728309631,
          0.972582995891571,
          0.9687544107437134,
          0.9685802459716797,
          0.9681844115257263,
          0.9723634123802185,
          0.9724500775337219,
          0.972041666507721,
          0.971203625202179,
          0.9731649160385132
         ]
        }
       ],
       "layout": {
        "template": {
         "data": {
          "bar": [
           {
            "error_x": {
             "color": "#2a3f5f"
            },
            "error_y": {
             "color": "#2a3f5f"
            },
            "marker": {
             "line": {
              "color": "#E5ECF6",
              "width": 0.5
             },
             "pattern": {
              "fillmode": "overlay",
              "size": 10,
              "solidity": 0.2
             }
            },
            "type": "bar"
           }
          ],
          "barpolar": [
           {
            "marker": {
             "line": {
              "color": "#E5ECF6",
              "width": 0.5
             },
             "pattern": {
              "fillmode": "overlay",
              "size": 10,
              "solidity": 0.2
             }
            },
            "type": "barpolar"
           }
          ],
          "carpet": [
           {
            "aaxis": {
             "endlinecolor": "#2a3f5f",
             "gridcolor": "white",
             "linecolor": "white",
             "minorgridcolor": "white",
             "startlinecolor": "#2a3f5f"
            },
            "baxis": {
             "endlinecolor": "#2a3f5f",
             "gridcolor": "white",
             "linecolor": "white",
             "minorgridcolor": "white",
             "startlinecolor": "#2a3f5f"
            },
            "type": "carpet"
           }
          ],
          "choropleth": [
           {
            "colorbar": {
             "outlinewidth": 0,
             "ticks": ""
            },
            "type": "choropleth"
           }
          ],
          "contour": [
           {
            "colorbar": {
             "outlinewidth": 0,
             "ticks": ""
            },
            "colorscale": [
             [
              0,
              "#0d0887"
             ],
             [
              0.1111111111111111,
              "#46039f"
             ],
             [
              0.2222222222222222,
              "#7201a8"
             ],
             [
              0.3333333333333333,
              "#9c179e"
             ],
             [
              0.4444444444444444,
              "#bd3786"
             ],
             [
              0.5555555555555556,
              "#d8576b"
             ],
             [
              0.6666666666666666,
              "#ed7953"
             ],
             [
              0.7777777777777778,
              "#fb9f3a"
             ],
             [
              0.8888888888888888,
              "#fdca26"
             ],
             [
              1,
              "#f0f921"
             ]
            ],
            "type": "contour"
           }
          ],
          "contourcarpet": [
           {
            "colorbar": {
             "outlinewidth": 0,
             "ticks": ""
            },
            "type": "contourcarpet"
           }
          ],
          "heatmap": [
           {
            "colorbar": {
             "outlinewidth": 0,
             "ticks": ""
            },
            "colorscale": [
             [
              0,
              "#0d0887"
             ],
             [
              0.1111111111111111,
              "#46039f"
             ],
             [
              0.2222222222222222,
              "#7201a8"
             ],
             [
              0.3333333333333333,
              "#9c179e"
             ],
             [
              0.4444444444444444,
              "#bd3786"
             ],
             [
              0.5555555555555556,
              "#d8576b"
             ],
             [
              0.6666666666666666,
              "#ed7953"
             ],
             [
              0.7777777777777778,
              "#fb9f3a"
             ],
             [
              0.8888888888888888,
              "#fdca26"
             ],
             [
              1,
              "#f0f921"
             ]
            ],
            "type": "heatmap"
           }
          ],
          "heatmapgl": [
           {
            "colorbar": {
             "outlinewidth": 0,
             "ticks": ""
            },
            "colorscale": [
             [
              0,
              "#0d0887"
             ],
             [
              0.1111111111111111,
              "#46039f"
             ],
             [
              0.2222222222222222,
              "#7201a8"
             ],
             [
              0.3333333333333333,
              "#9c179e"
             ],
             [
              0.4444444444444444,
              "#bd3786"
             ],
             [
              0.5555555555555556,
              "#d8576b"
             ],
             [
              0.6666666666666666,
              "#ed7953"
             ],
             [
              0.7777777777777778,
              "#fb9f3a"
             ],
             [
              0.8888888888888888,
              "#fdca26"
             ],
             [
              1,
              "#f0f921"
             ]
            ],
            "type": "heatmapgl"
           }
          ],
          "histogram": [
           {
            "marker": {
             "pattern": {
              "fillmode": "overlay",
              "size": 10,
              "solidity": 0.2
             }
            },
            "type": "histogram"
           }
          ],
          "histogram2d": [
           {
            "colorbar": {
             "outlinewidth": 0,
             "ticks": ""
            },
            "colorscale": [
             [
              0,
              "#0d0887"
             ],
             [
              0.1111111111111111,
              "#46039f"
             ],
             [
              0.2222222222222222,
              "#7201a8"
             ],
             [
              0.3333333333333333,
              "#9c179e"
             ],
             [
              0.4444444444444444,
              "#bd3786"
             ],
             [
              0.5555555555555556,
              "#d8576b"
             ],
             [
              0.6666666666666666,
              "#ed7953"
             ],
             [
              0.7777777777777778,
              "#fb9f3a"
             ],
             [
              0.8888888888888888,
              "#fdca26"
             ],
             [
              1,
              "#f0f921"
             ]
            ],
            "type": "histogram2d"
           }
          ],
          "histogram2dcontour": [
           {
            "colorbar": {
             "outlinewidth": 0,
             "ticks": ""
            },
            "colorscale": [
             [
              0,
              "#0d0887"
             ],
             [
              0.1111111111111111,
              "#46039f"
             ],
             [
              0.2222222222222222,
              "#7201a8"
             ],
             [
              0.3333333333333333,
              "#9c179e"
             ],
             [
              0.4444444444444444,
              "#bd3786"
             ],
             [
              0.5555555555555556,
              "#d8576b"
             ],
             [
              0.6666666666666666,
              "#ed7953"
             ],
             [
              0.7777777777777778,
              "#fb9f3a"
             ],
             [
              0.8888888888888888,
              "#fdca26"
             ],
             [
              1,
              "#f0f921"
             ]
            ],
            "type": "histogram2dcontour"
           }
          ],
          "mesh3d": [
           {
            "colorbar": {
             "outlinewidth": 0,
             "ticks": ""
            },
            "type": "mesh3d"
           }
          ],
          "parcoords": [
           {
            "line": {
             "colorbar": {
              "outlinewidth": 0,
              "ticks": ""
             }
            },
            "type": "parcoords"
           }
          ],
          "pie": [
           {
            "automargin": true,
            "type": "pie"
           }
          ],
          "scatter": [
           {
            "fillpattern": {
             "fillmode": "overlay",
             "size": 10,
             "solidity": 0.2
            },
            "type": "scatter"
           }
          ],
          "scatter3d": [
           {
            "line": {
             "colorbar": {
              "outlinewidth": 0,
              "ticks": ""
             }
            },
            "marker": {
             "colorbar": {
              "outlinewidth": 0,
              "ticks": ""
             }
            },
            "type": "scatter3d"
           }
          ],
          "scattercarpet": [
           {
            "marker": {
             "colorbar": {
              "outlinewidth": 0,
              "ticks": ""
             }
            },
            "type": "scattercarpet"
           }
          ],
          "scattergeo": [
           {
            "marker": {
             "colorbar": {
              "outlinewidth": 0,
              "ticks": ""
             }
            },
            "type": "scattergeo"
           }
          ],
          "scattergl": [
           {
            "marker": {
             "colorbar": {
              "outlinewidth": 0,
              "ticks": ""
             }
            },
            "type": "scattergl"
           }
          ],
          "scattermapbox": [
           {
            "marker": {
             "colorbar": {
              "outlinewidth": 0,
              "ticks": ""
             }
            },
            "type": "scattermapbox"
           }
          ],
          "scatterpolar": [
           {
            "marker": {
             "colorbar": {
              "outlinewidth": 0,
              "ticks": ""
             }
            },
            "type": "scatterpolar"
           }
          ],
          "scatterpolargl": [
           {
            "marker": {
             "colorbar": {
              "outlinewidth": 0,
              "ticks": ""
             }
            },
            "type": "scatterpolargl"
           }
          ],
          "scatterternary": [
           {
            "marker": {
             "colorbar": {
              "outlinewidth": 0,
              "ticks": ""
             }
            },
            "type": "scatterternary"
           }
          ],
          "surface": [
           {
            "colorbar": {
             "outlinewidth": 0,
             "ticks": ""
            },
            "colorscale": [
             [
              0,
              "#0d0887"
             ],
             [
              0.1111111111111111,
              "#46039f"
             ],
             [
              0.2222222222222222,
              "#7201a8"
             ],
             [
              0.3333333333333333,
              "#9c179e"
             ],
             [
              0.4444444444444444,
              "#bd3786"
             ],
             [
              0.5555555555555556,
              "#d8576b"
             ],
             [
              0.6666666666666666,
              "#ed7953"
             ],
             [
              0.7777777777777778,
              "#fb9f3a"
             ],
             [
              0.8888888888888888,
              "#fdca26"
             ],
             [
              1,
              "#f0f921"
             ]
            ],
            "type": "surface"
           }
          ],
          "table": [
           {
            "cells": {
             "fill": {
              "color": "#EBF0F8"
             },
             "line": {
              "color": "white"
             }
            },
            "header": {
             "fill": {
              "color": "#C8D4E3"
             },
             "line": {
              "color": "white"
             }
            },
            "type": "table"
           }
          ]
         },
         "layout": {
          "annotationdefaults": {
           "arrowcolor": "#2a3f5f",
           "arrowhead": 0,
           "arrowwidth": 1
          },
          "autotypenumbers": "strict",
          "coloraxis": {
           "colorbar": {
            "outlinewidth": 0,
            "ticks": ""
           }
          },
          "colorscale": {
           "diverging": [
            [
             0,
             "#8e0152"
            ],
            [
             0.1,
             "#c51b7d"
            ],
            [
             0.2,
             "#de77ae"
            ],
            [
             0.3,
             "#f1b6da"
            ],
            [
             0.4,
             "#fde0ef"
            ],
            [
             0.5,
             "#f7f7f7"
            ],
            [
             0.6,
             "#e6f5d0"
            ],
            [
             0.7,
             "#b8e186"
            ],
            [
             0.8,
             "#7fbc41"
            ],
            [
             0.9,
             "#4d9221"
            ],
            [
             1,
             "#276419"
            ]
           ],
           "sequential": [
            [
             0,
             "#0d0887"
            ],
            [
             0.1111111111111111,
             "#46039f"
            ],
            [
             0.2222222222222222,
             "#7201a8"
            ],
            [
             0.3333333333333333,
             "#9c179e"
            ],
            [
             0.4444444444444444,
             "#bd3786"
            ],
            [
             0.5555555555555556,
             "#d8576b"
            ],
            [
             0.6666666666666666,
             "#ed7953"
            ],
            [
             0.7777777777777778,
             "#fb9f3a"
            ],
            [
             0.8888888888888888,
             "#fdca26"
            ],
            [
             1,
             "#f0f921"
            ]
           ],
           "sequentialminus": [
            [
             0,
             "#0d0887"
            ],
            [
             0.1111111111111111,
             "#46039f"
            ],
            [
             0.2222222222222222,
             "#7201a8"
            ],
            [
             0.3333333333333333,
             "#9c179e"
            ],
            [
             0.4444444444444444,
             "#bd3786"
            ],
            [
             0.5555555555555556,
             "#d8576b"
            ],
            [
             0.6666666666666666,
             "#ed7953"
            ],
            [
             0.7777777777777778,
             "#fb9f3a"
            ],
            [
             0.8888888888888888,
             "#fdca26"
            ],
            [
             1,
             "#f0f921"
            ]
           ]
          },
          "colorway": [
           "#636efa",
           "#EF553B",
           "#00cc96",
           "#ab63fa",
           "#FFA15A",
           "#19d3f3",
           "#FF6692",
           "#B6E880",
           "#FF97FF",
           "#FECB52"
          ],
          "font": {
           "color": "#2a3f5f"
          },
          "geo": {
           "bgcolor": "white",
           "lakecolor": "white",
           "landcolor": "#E5ECF6",
           "showlakes": true,
           "showland": true,
           "subunitcolor": "white"
          },
          "hoverlabel": {
           "align": "left"
          },
          "hovermode": "closest",
          "mapbox": {
           "style": "light"
          },
          "paper_bgcolor": "white",
          "plot_bgcolor": "#E5ECF6",
          "polar": {
           "angularaxis": {
            "gridcolor": "white",
            "linecolor": "white",
            "ticks": ""
           },
           "bgcolor": "#E5ECF6",
           "radialaxis": {
            "gridcolor": "white",
            "linecolor": "white",
            "ticks": ""
           }
          },
          "scene": {
           "xaxis": {
            "backgroundcolor": "#E5ECF6",
            "gridcolor": "white",
            "gridwidth": 2,
            "linecolor": "white",
            "showbackground": true,
            "ticks": "",
            "zerolinecolor": "white"
           },
           "yaxis": {
            "backgroundcolor": "#E5ECF6",
            "gridcolor": "white",
            "gridwidth": 2,
            "linecolor": "white",
            "showbackground": true,
            "ticks": "",
            "zerolinecolor": "white"
           },
           "zaxis": {
            "backgroundcolor": "#E5ECF6",
            "gridcolor": "white",
            "gridwidth": 2,
            "linecolor": "white",
            "showbackground": true,
            "ticks": "",
            "zerolinecolor": "white"
           }
          },
          "shapedefaults": {
           "line": {
            "color": "#2a3f5f"
           }
          },
          "ternary": {
           "aaxis": {
            "gridcolor": "white",
            "linecolor": "white",
            "ticks": ""
           },
           "baxis": {
            "gridcolor": "white",
            "linecolor": "white",
            "ticks": ""
           },
           "bgcolor": "#E5ECF6",
           "caxis": {
            "gridcolor": "white",
            "linecolor": "white",
            "ticks": ""
           }
          },
          "title": {
           "x": 0.05
          },
          "xaxis": {
           "automargin": true,
           "gridcolor": "white",
           "linecolor": "white",
           "ticks": "",
           "title": {
            "standoff": 15
           },
           "zerolinecolor": "white",
           "zerolinewidth": 2
          },
          "yaxis": {
           "automargin": true,
           "gridcolor": "white",
           "linecolor": "white",
           "ticks": "",
           "title": {
            "standoff": 15
           },
           "zerolinecolor": "white",
           "zerolinewidth": 2
          }
         }
        },
        "title": {
         "text": "Accuracy distribution for LSTM and BiLSTM models"
        }
       }
      }
     },
     "metadata": {},
     "output_type": "display_data"
    }
   ],
   "source": [
    "import plotly.express as px\n",
    "import plotly.graph_objects as go\n",
    "\n",
    "df_lstm_results = pd.DataFrame(lstm_results)\n",
    "df_bilstm_results = pd.DataFrame(bilstm_results)\n",
    "\n",
    "fig = go.Figure()\n",
    "\n",
    "fig.add_trace(\n",
    "    go.Box(\n",
    "        y=df_lstm_results[\"accuracies\"],\n",
    "        name=\"LSTM\",\n",
    "        boxmean=True,\n",
    "        boxpoints=\"all\",\n",
    "        marker=dict(color=\"blue\"),\n",
    "    )\n",
    ")\n",
    "\n",
    "fig.add_trace(\n",
    "    go.Box(\n",
    "        y=df_bilstm_results[\"accuracies\"],\n",
    "        name=\"BiLSTM\",\n",
    "        boxmean=True,\n",
    "        boxpoints=\"all\",\n",
    "        marker=dict(color=\"red\"),\n",
    "    )\n",
    ")\n",
    "\n",
    "fig.update_layout(title=\"Accuracy distribution for LSTM and BiLSTM models\")\n",
    "\n",
    "fig.show()"
   ]
  },
  {
   "cell_type": "code",
   "execution_count": 56,
   "metadata": {},
   "outputs": [
    {
     "data": {
      "application/vnd.plotly.v1+json": {
       "config": {
        "plotlyServerURL": "https://plot.ly"
       },
       "data": [
        {
         "boxmean": true,
         "boxpoints": "all",
         "marker": {
          "color": "blue"
         },
         "name": "LSTM",
         "type": "box",
         "y": [
          0.7366212010383606,
          0.7397043108940125,
          0.7399789094924927,
          0.7505176067352295,
          0.7384123802185059,
          0.7489451766014099,
          0.7425742745399475,
          0.7521141767501831,
          0.7567567825317383,
          0.7393617033958435,
          0.7620545029640198,
          0.7538126111030579,
          0.7449871301651001,
          0.7351174354553223,
          0.7407407164573669,
          0.7306468486785889,
          0.7556371092796326,
          0.7510416507720947,
          0.7565125226974487,
          0.7519705891609192,
          0.7666841745376587,
          0.7423155903816223,
          0.7424483299255371,
          0.7657563090324402,
          0.755497395992279,
          0.7505208253860474,
          0.7656816840171814,
          0.7311320900917053,
          0.7546271681785583,
          0.754450261592865
         ]
        },
        {
         "boxmean": true,
         "boxpoints": "all",
         "marker": {
          "color": "red"
         },
         "name": "BiLSTM",
         "type": "box",
         "y": [
          0.8888888955116272,
          0.8829787373542786,
          0.8838174343109131,
          0.8798549771308899,
          0.9003099203109741,
          0.8987473845481873,
          0.8869611024856567,
          0.8759894371032715,
          0.8746014833450317,
          0.8748010396957397,
          0.8779854774475098,
          0.8778789639472961,
          0.8836477994918823,
          0.8719289302825928,
          0.8909952640533447,
          0.8901098966598511,
          0.8936499953269958,
          0.8881043195724487,
          0.8872141242027283,
          0.8797699809074402,
          0.8775185346603394,
          0.8793103694915771,
          0.8844953179359436,
          0.8830010294914246,
          0.8708644509315491,
          0.8970822095870972,
          0.8834224343299866,
          0.8922280073165894,
          0.8794363141059875,
          0.881130039691925
         ]
        }
       ],
       "layout": {
        "template": {
         "data": {
          "bar": [
           {
            "error_x": {
             "color": "#2a3f5f"
            },
            "error_y": {
             "color": "#2a3f5f"
            },
            "marker": {
             "line": {
              "color": "#E5ECF6",
              "width": 0.5
             },
             "pattern": {
              "fillmode": "overlay",
              "size": 10,
              "solidity": 0.2
             }
            },
            "type": "bar"
           }
          ],
          "barpolar": [
           {
            "marker": {
             "line": {
              "color": "#E5ECF6",
              "width": 0.5
             },
             "pattern": {
              "fillmode": "overlay",
              "size": 10,
              "solidity": 0.2
             }
            },
            "type": "barpolar"
           }
          ],
          "carpet": [
           {
            "aaxis": {
             "endlinecolor": "#2a3f5f",
             "gridcolor": "white",
             "linecolor": "white",
             "minorgridcolor": "white",
             "startlinecolor": "#2a3f5f"
            },
            "baxis": {
             "endlinecolor": "#2a3f5f",
             "gridcolor": "white",
             "linecolor": "white",
             "minorgridcolor": "white",
             "startlinecolor": "#2a3f5f"
            },
            "type": "carpet"
           }
          ],
          "choropleth": [
           {
            "colorbar": {
             "outlinewidth": 0,
             "ticks": ""
            },
            "type": "choropleth"
           }
          ],
          "contour": [
           {
            "colorbar": {
             "outlinewidth": 0,
             "ticks": ""
            },
            "colorscale": [
             [
              0,
              "#0d0887"
             ],
             [
              0.1111111111111111,
              "#46039f"
             ],
             [
              0.2222222222222222,
              "#7201a8"
             ],
             [
              0.3333333333333333,
              "#9c179e"
             ],
             [
              0.4444444444444444,
              "#bd3786"
             ],
             [
              0.5555555555555556,
              "#d8576b"
             ],
             [
              0.6666666666666666,
              "#ed7953"
             ],
             [
              0.7777777777777778,
              "#fb9f3a"
             ],
             [
              0.8888888888888888,
              "#fdca26"
             ],
             [
              1,
              "#f0f921"
             ]
            ],
            "type": "contour"
           }
          ],
          "contourcarpet": [
           {
            "colorbar": {
             "outlinewidth": 0,
             "ticks": ""
            },
            "type": "contourcarpet"
           }
          ],
          "heatmap": [
           {
            "colorbar": {
             "outlinewidth": 0,
             "ticks": ""
            },
            "colorscale": [
             [
              0,
              "#0d0887"
             ],
             [
              0.1111111111111111,
              "#46039f"
             ],
             [
              0.2222222222222222,
              "#7201a8"
             ],
             [
              0.3333333333333333,
              "#9c179e"
             ],
             [
              0.4444444444444444,
              "#bd3786"
             ],
             [
              0.5555555555555556,
              "#d8576b"
             ],
             [
              0.6666666666666666,
              "#ed7953"
             ],
             [
              0.7777777777777778,
              "#fb9f3a"
             ],
             [
              0.8888888888888888,
              "#fdca26"
             ],
             [
              1,
              "#f0f921"
             ]
            ],
            "type": "heatmap"
           }
          ],
          "heatmapgl": [
           {
            "colorbar": {
             "outlinewidth": 0,
             "ticks": ""
            },
            "colorscale": [
             [
              0,
              "#0d0887"
             ],
             [
              0.1111111111111111,
              "#46039f"
             ],
             [
              0.2222222222222222,
              "#7201a8"
             ],
             [
              0.3333333333333333,
              "#9c179e"
             ],
             [
              0.4444444444444444,
              "#bd3786"
             ],
             [
              0.5555555555555556,
              "#d8576b"
             ],
             [
              0.6666666666666666,
              "#ed7953"
             ],
             [
              0.7777777777777778,
              "#fb9f3a"
             ],
             [
              0.8888888888888888,
              "#fdca26"
             ],
             [
              1,
              "#f0f921"
             ]
            ],
            "type": "heatmapgl"
           }
          ],
          "histogram": [
           {
            "marker": {
             "pattern": {
              "fillmode": "overlay",
              "size": 10,
              "solidity": 0.2
             }
            },
            "type": "histogram"
           }
          ],
          "histogram2d": [
           {
            "colorbar": {
             "outlinewidth": 0,
             "ticks": ""
            },
            "colorscale": [
             [
              0,
              "#0d0887"
             ],
             [
              0.1111111111111111,
              "#46039f"
             ],
             [
              0.2222222222222222,
              "#7201a8"
             ],
             [
              0.3333333333333333,
              "#9c179e"
             ],
             [
              0.4444444444444444,
              "#bd3786"
             ],
             [
              0.5555555555555556,
              "#d8576b"
             ],
             [
              0.6666666666666666,
              "#ed7953"
             ],
             [
              0.7777777777777778,
              "#fb9f3a"
             ],
             [
              0.8888888888888888,
              "#fdca26"
             ],
             [
              1,
              "#f0f921"
             ]
            ],
            "type": "histogram2d"
           }
          ],
          "histogram2dcontour": [
           {
            "colorbar": {
             "outlinewidth": 0,
             "ticks": ""
            },
            "colorscale": [
             [
              0,
              "#0d0887"
             ],
             [
              0.1111111111111111,
              "#46039f"
             ],
             [
              0.2222222222222222,
              "#7201a8"
             ],
             [
              0.3333333333333333,
              "#9c179e"
             ],
             [
              0.4444444444444444,
              "#bd3786"
             ],
             [
              0.5555555555555556,
              "#d8576b"
             ],
             [
              0.6666666666666666,
              "#ed7953"
             ],
             [
              0.7777777777777778,
              "#fb9f3a"
             ],
             [
              0.8888888888888888,
              "#fdca26"
             ],
             [
              1,
              "#f0f921"
             ]
            ],
            "type": "histogram2dcontour"
           }
          ],
          "mesh3d": [
           {
            "colorbar": {
             "outlinewidth": 0,
             "ticks": ""
            },
            "type": "mesh3d"
           }
          ],
          "parcoords": [
           {
            "line": {
             "colorbar": {
              "outlinewidth": 0,
              "ticks": ""
             }
            },
            "type": "parcoords"
           }
          ],
          "pie": [
           {
            "automargin": true,
            "type": "pie"
           }
          ],
          "scatter": [
           {
            "fillpattern": {
             "fillmode": "overlay",
             "size": 10,
             "solidity": 0.2
            },
            "type": "scatter"
           }
          ],
          "scatter3d": [
           {
            "line": {
             "colorbar": {
              "outlinewidth": 0,
              "ticks": ""
             }
            },
            "marker": {
             "colorbar": {
              "outlinewidth": 0,
              "ticks": ""
             }
            },
            "type": "scatter3d"
           }
          ],
          "scattercarpet": [
           {
            "marker": {
             "colorbar": {
              "outlinewidth": 0,
              "ticks": ""
             }
            },
            "type": "scattercarpet"
           }
          ],
          "scattergeo": [
           {
            "marker": {
             "colorbar": {
              "outlinewidth": 0,
              "ticks": ""
             }
            },
            "type": "scattergeo"
           }
          ],
          "scattergl": [
           {
            "marker": {
             "colorbar": {
              "outlinewidth": 0,
              "ticks": ""
             }
            },
            "type": "scattergl"
           }
          ],
          "scattermapbox": [
           {
            "marker": {
             "colorbar": {
              "outlinewidth": 0,
              "ticks": ""
             }
            },
            "type": "scattermapbox"
           }
          ],
          "scatterpolar": [
           {
            "marker": {
             "colorbar": {
              "outlinewidth": 0,
              "ticks": ""
             }
            },
            "type": "scatterpolar"
           }
          ],
          "scatterpolargl": [
           {
            "marker": {
             "colorbar": {
              "outlinewidth": 0,
              "ticks": ""
             }
            },
            "type": "scatterpolargl"
           }
          ],
          "scatterternary": [
           {
            "marker": {
             "colorbar": {
              "outlinewidth": 0,
              "ticks": ""
             }
            },
            "type": "scatterternary"
           }
          ],
          "surface": [
           {
            "colorbar": {
             "outlinewidth": 0,
             "ticks": ""
            },
            "colorscale": [
             [
              0,
              "#0d0887"
             ],
             [
              0.1111111111111111,
              "#46039f"
             ],
             [
              0.2222222222222222,
              "#7201a8"
             ],
             [
              0.3333333333333333,
              "#9c179e"
             ],
             [
              0.4444444444444444,
              "#bd3786"
             ],
             [
              0.5555555555555556,
              "#d8576b"
             ],
             [
              0.6666666666666666,
              "#ed7953"
             ],
             [
              0.7777777777777778,
              "#fb9f3a"
             ],
             [
              0.8888888888888888,
              "#fdca26"
             ],
             [
              1,
              "#f0f921"
             ]
            ],
            "type": "surface"
           }
          ],
          "table": [
           {
            "cells": {
             "fill": {
              "color": "#EBF0F8"
             },
             "line": {
              "color": "white"
             }
            },
            "header": {
             "fill": {
              "color": "#C8D4E3"
             },
             "line": {
              "color": "white"
             }
            },
            "type": "table"
           }
          ]
         },
         "layout": {
          "annotationdefaults": {
           "arrowcolor": "#2a3f5f",
           "arrowhead": 0,
           "arrowwidth": 1
          },
          "autotypenumbers": "strict",
          "coloraxis": {
           "colorbar": {
            "outlinewidth": 0,
            "ticks": ""
           }
          },
          "colorscale": {
           "diverging": [
            [
             0,
             "#8e0152"
            ],
            [
             0.1,
             "#c51b7d"
            ],
            [
             0.2,
             "#de77ae"
            ],
            [
             0.3,
             "#f1b6da"
            ],
            [
             0.4,
             "#fde0ef"
            ],
            [
             0.5,
             "#f7f7f7"
            ],
            [
             0.6,
             "#e6f5d0"
            ],
            [
             0.7,
             "#b8e186"
            ],
            [
             0.8,
             "#7fbc41"
            ],
            [
             0.9,
             "#4d9221"
            ],
            [
             1,
             "#276419"
            ]
           ],
           "sequential": [
            [
             0,
             "#0d0887"
            ],
            [
             0.1111111111111111,
             "#46039f"
            ],
            [
             0.2222222222222222,
             "#7201a8"
            ],
            [
             0.3333333333333333,
             "#9c179e"
            ],
            [
             0.4444444444444444,
             "#bd3786"
            ],
            [
             0.5555555555555556,
             "#d8576b"
            ],
            [
             0.6666666666666666,
             "#ed7953"
            ],
            [
             0.7777777777777778,
             "#fb9f3a"
            ],
            [
             0.8888888888888888,
             "#fdca26"
            ],
            [
             1,
             "#f0f921"
            ]
           ],
           "sequentialminus": [
            [
             0,
             "#0d0887"
            ],
            [
             0.1111111111111111,
             "#46039f"
            ],
            [
             0.2222222222222222,
             "#7201a8"
            ],
            [
             0.3333333333333333,
             "#9c179e"
            ],
            [
             0.4444444444444444,
             "#bd3786"
            ],
            [
             0.5555555555555556,
             "#d8576b"
            ],
            [
             0.6666666666666666,
             "#ed7953"
            ],
            [
             0.7777777777777778,
             "#fb9f3a"
            ],
            [
             0.8888888888888888,
             "#fdca26"
            ],
            [
             1,
             "#f0f921"
            ]
           ]
          },
          "colorway": [
           "#636efa",
           "#EF553B",
           "#00cc96",
           "#ab63fa",
           "#FFA15A",
           "#19d3f3",
           "#FF6692",
           "#B6E880",
           "#FF97FF",
           "#FECB52"
          ],
          "font": {
           "color": "#2a3f5f"
          },
          "geo": {
           "bgcolor": "white",
           "lakecolor": "white",
           "landcolor": "#E5ECF6",
           "showlakes": true,
           "showland": true,
           "subunitcolor": "white"
          },
          "hoverlabel": {
           "align": "left"
          },
          "hovermode": "closest",
          "mapbox": {
           "style": "light"
          },
          "paper_bgcolor": "white",
          "plot_bgcolor": "#E5ECF6",
          "polar": {
           "angularaxis": {
            "gridcolor": "white",
            "linecolor": "white",
            "ticks": ""
           },
           "bgcolor": "#E5ECF6",
           "radialaxis": {
            "gridcolor": "white",
            "linecolor": "white",
            "ticks": ""
           }
          },
          "scene": {
           "xaxis": {
            "backgroundcolor": "#E5ECF6",
            "gridcolor": "white",
            "gridwidth": 2,
            "linecolor": "white",
            "showbackground": true,
            "ticks": "",
            "zerolinecolor": "white"
           },
           "yaxis": {
            "backgroundcolor": "#E5ECF6",
            "gridcolor": "white",
            "gridwidth": 2,
            "linecolor": "white",
            "showbackground": true,
            "ticks": "",
            "zerolinecolor": "white"
           },
           "zaxis": {
            "backgroundcolor": "#E5ECF6",
            "gridcolor": "white",
            "gridwidth": 2,
            "linecolor": "white",
            "showbackground": true,
            "ticks": "",
            "zerolinecolor": "white"
           }
          },
          "shapedefaults": {
           "line": {
            "color": "#2a3f5f"
           }
          },
          "ternary": {
           "aaxis": {
            "gridcolor": "white",
            "linecolor": "white",
            "ticks": ""
           },
           "baxis": {
            "gridcolor": "white",
            "linecolor": "white",
            "ticks": ""
           },
           "bgcolor": "#E5ECF6",
           "caxis": {
            "gridcolor": "white",
            "linecolor": "white",
            "ticks": ""
           }
          },
          "title": {
           "x": 0.05
          },
          "xaxis": {
           "automargin": true,
           "gridcolor": "white",
           "linecolor": "white",
           "ticks": "",
           "title": {
            "standoff": 15
           },
           "zerolinecolor": "white",
           "zerolinewidth": 2
          },
          "yaxis": {
           "automargin": true,
           "gridcolor": "white",
           "linecolor": "white",
           "ticks": "",
           "title": {
            "standoff": 15
           },
           "zerolinecolor": "white",
           "zerolinewidth": 2
          }
         }
        },
        "title": {
         "text": "Entity accuracy distribution for LSTM and BiLSTM models"
        }
       }
      }
     },
     "metadata": {},
     "output_type": "display_data"
    }
   ],
   "source": [
    "fig = go.Figure()\n",
    "\n",
    "fig.add_trace(\n",
    "    go.Box(\n",
    "        y=df_lstm_results[\"entity_accuracies\"],\n",
    "        name=\"LSTM\",\n",
    "        boxmean=True,\n",
    "        boxpoints=\"all\",\n",
    "        marker=dict(color=\"blue\"),\n",
    "    )\n",
    ")\n",
    "\n",
    "fig.add_trace(\n",
    "    go.Box(\n",
    "        y=df_bilstm_results[\"entity_accuracies\"],\n",
    "        name=\"BiLSTM\",\n",
    "        boxmean=True,\n",
    "        boxpoints=\"all\",\n",
    "        marker=dict(color=\"red\"),\n",
    "    )\n",
    ")\n",
    "\n",
    "fig.update_layout(title=\"Entity accuracy distribution for LSTM and BiLSTM models\")\n",
    "\n",
    "fig.show()"
   ]
  }
 ],
 "metadata": {
  "kernelspec": {
   "display_name": "venv",
   "language": "python",
   "name": "python3"
  },
  "language_info": {
   "codemirror_mode": {
    "name": "ipython",
    "version": 3
   },
   "file_extension": ".py",
   "mimetype": "text/x-python",
   "name": "python",
   "nbconvert_exporter": "python",
   "pygments_lexer": "ipython3",
   "version": "3.12.4"
  }
 },
 "nbformat": 4,
 "nbformat_minor": 2
}
