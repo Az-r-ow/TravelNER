{
 "cells": [
  {
   "cell_type": "markdown",
   "metadata": {},
   "source": [
    "# Deep learning NER\n",
    "\n",
    "In this notebook, we will discover two deep learning techniques for Named Entity Recognition (or NER).\n",
    "\n",
    "- LSTM (Long Short Term Memory)\n",
    "- Transformers\n"
   ]
  },
  {
   "cell_type": "markdown",
   "metadata": {},
   "source": [
    "The generated **BIO** file by the script will be loaded as well as a corpus of lambda sentences that don't necessarily contain either an _arrival_ or _departure_ location.\n",
    "\n",
    "Since the goal is to extract the locations from a user's query, the times in which random sentences might be inputted should be accounted for. Therefore, to stay rational with the frequency of that happening, the ratio will be $1:10$ for the lambda sentences which will be extracted from `data/french_text/1k_unlabeled_samples.txt`.\n"
   ]
  },
  {
   "cell_type": "code",
   "execution_count": 3,
   "metadata": {},
   "outputs": [
    {
     "name": "stderr",
     "output_type": "stream",
     "text": [
      "[nltk_data] Downloading package punkt_tab to /Users/az-r-\n",
      "[nltk_data]     ow/nltk_data...\n",
      "[nltk_data]   Package punkt_tab is already up-to-date!\n"
     ]
    }
   ],
   "source": [
    "from app.travel_resolver.libs.nlp import data_processing as dp\n",
    "\n",
    "sentences, labels, vocab, unique_labels = dp.from_bio_file_to_examples(\n",
    "    \"./data/bio/fr.bio/10k_samples.bio\"\n",
    ")"
   ]
  },
  {
   "cell_type": "code",
   "execution_count": 4,
   "metadata": {},
   "outputs": [],
   "source": [
    "lambda_sentences, lambda_labels, _, __ = dp.from_bio_file_to_examples(\n",
    "    \"./data/bio/fr.bio/1k_unlabeled_samples.bio\"\n",
    ")"
   ]
  },
  {
   "cell_type": "code",
   "execution_count": 5,
   "metadata": {},
   "outputs": [],
   "source": [
    "sentences = sentences + lambda_sentences\n",
    "labels = labels + lambda_labels"
   ]
  },
  {
   "cell_type": "code",
   "execution_count": 6,
   "metadata": {},
   "outputs": [],
   "source": [
    "processed_sentences = []\n",
    "processed_labels = []\n",
    "\n",
    "for sentence, label in zip(sentences, labels):\n",
    "    sentence, label = dp.process_sentence(\n",
    "        sentence, stemming=True, return_tokens=True, labels_to_adapt=label\n",
    "    )\n",
    "    processed_sentences.append(sentence)\n",
    "    processed_labels.append(label)"
   ]
  },
  {
   "cell_type": "code",
   "execution_count": 7,
   "metadata": {},
   "outputs": [
    {
     "data": {
      "image/png": "[encoded data removed]",
      "text/plain": [
       "<Figure size 640x480 with 1 Axes>"
      ]
     },
     "metadata": {},
     "output_type": "display_data"
    }
   ],
   "source": [
    "import matplotlib.pyplot as plt\n",
    "\n",
    "plt.hist([len(sentence) for sentence in processed_sentences], bins=50)\n",
    "plt.title(\"Histogram of sentence lengths\")\n",
    "\n",
    "plt.show()"
   ]
  },
  {
   "cell_type": "code",
   "execution_count": 8,
   "metadata": {},
   "outputs": [],
   "source": [
    "\"\"\"\n",
    "  This variable will control the maximum length of the sentence \n",
    "  as well as the embedding size\n",
    "\"\"\"\n",
    "\n",
    "MAX_LEN = 30"
   ]
  },
  {
   "cell_type": "code",
   "execution_count": 9,
   "metadata": {},
   "outputs": [],
   "source": [
    "import tensorflow as tf\n",
    "\n",
    "\n",
    "def encode_and_pad_sentence(sentence: str, vocab: list[str], max_length: int = MAX_LEN):\n",
    "    \"\"\"\n",
    "    Encode a sentence into a list of integers\n",
    "\n",
    "    Parameters:\n",
    "    sentence (str): The sentence to encode\n",
    "    vocab (list): The vocabulary\n",
    "\n",
    "    Returns:\n",
    "    list: The list of integers\n",
    "    \"\"\"\n",
    "    encoded_sentence = [\n",
    "        vocab.index(word) if word in vocab else vocab.index(\"<UNK>\")\n",
    "        for word in sentence\n",
    "    ]\n",
    "\n",
    "    return tf.keras.utils.pad_sequences(\n",
    "        [encoded_sentence], maxlen=max_length, padding=\"post\", value=0\n",
    "    )[0]"
   ]
  },
  {
   "cell_type": "code",
   "execution_count": 10,
   "metadata": {},
   "outputs": [],
   "source": [
    "get_vocab_from_corpus = lambda corpus: [\"\", \"<UNK>\"] + list(\n",
    "    set([word for sentence in corpus for word in sentence])\n",
    ")"
   ]
  },
  {
   "cell_type": "code",
   "execution_count": 11,
   "metadata": {},
   "outputs": [],
   "source": [
    "vocab = get_vocab_from_corpus(processed_sentences)"
   ]
  },
  {
   "cell_type": "code",
   "execution_count": 12,
   "metadata": {},
   "outputs": [],
   "source": [
    "encoded_sentences = [\n",
    "    encode_and_pad_sentence(sentence, vocab) for sentence in processed_sentences\n",
    "]"
   ]
  },
  {
   "cell_type": "code",
   "execution_count": 13,
   "metadata": {},
   "outputs": [],
   "source": [
    "padded_labels = tf.keras.preprocessing.sequence.pad_sequences(\n",
    "    processed_labels, maxlen=MAX_LEN, padding=\"post\", value=-1\n",
    ")"
   ]
  },
  {
   "cell_type": "code",
   "execution_count": 14,
   "metadata": {},
   "outputs": [
    {
     "name": "stderr",
     "output_type": "stream",
     "text": [
      "2024-11-10 17:37:13.787941: I tensorflow/core/framework/local_rendezvous.cc:404] Local rendezvous is aborting with status: OUT_OF_RANGE: End of sequence\n"
     ]
    }
   ],
   "source": [
    "dataset = tf.data.Dataset.from_tensor_slices((encoded_sentences, padded_labels))\n",
    "\n",
    "dataset = dataset.shuffle(11_000, seed=42)\n",
    "\n",
    "# Split the dataset into a training and testing dataset\n",
    "train_dataset, test_dataset = tf.keras.utils.split_dataset(dataset, left_size=0.8)"
   ]
  },
  {
   "cell_type": "code",
   "execution_count": 15,
   "metadata": {},
   "outputs": [],
   "source": [
    "lstm = tf.keras.models.Sequential(\n",
    "    layers=[\n",
    "        tf.keras.layers.Embedding(len(vocab) + 1, MAX_LEN, mask_zero=True),\n",
    "        tf.keras.layers.LSTM(MAX_LEN, return_sequences=True),\n",
    "        tf.keras.layers.Dense(len(unique_labels), activation=tf.nn.log_softmax),\n",
    "    ]\n",
    ")"
   ]
  },
  {
   "cell_type": "markdown",
   "metadata": {},
   "source": [
    "## Masked loss and metrics\n",
    "\n",
    "Before training the model, we need to create your own function to compute the accuracy. Tensorflow has built-in accuracy metrics but we cannot pass values to be ignored. This will impact the calculations, since we must remove the padded values.\n",
    "\n",
    "Usually, the metric that inputs true labels and predicted labels and outputs how many times the predicted and true labels match is called accuracy. In some cases, however, there is one more step before getting the predicted labels. This may happen if, instead of passing the predicted labels, a vector of probabilities is passed. In such case, there is a need to perform an `argmax` for each prediction to find the appropriate predicted label. Such situations happen very often, therefore Tensorflow has a set of functions, with prefix `Sparse`, that performs this operation in the backend. Unfortunately, it does not provide values to ignore in the accuracy case. This is what you will work on now.\n",
    "\n",
    "Note that the model's prediction has 3 axes:\n",
    "\n",
    "- the number of examples (batch size)\n",
    "- the number of words in each example (padded to be as long as the longest sentence in the batch)\n",
    "- the number of possible targets (the 17 named entity tags).\n",
    "\n",
    "Another important function is the loss function. In this case, we will use the Cross Entropy loss, but we need a multiclass implementation of it, also we may look for its Sparse version. Tensorflow has a SparseCategoricalCrossentropy loss function, which it is already imported by the name SparseCategoricalCrossEntropy.\n",
    "\n",
    "SparseCategoricalCrossentropy: The Sparse Categorical Crossentropy Loss Function.\n",
    "\n",
    "The arguments you will need:\n",
    "\n",
    "1. `from_logits`: This indicates if the values are raw values or normalized values (probabilities). Since the last layer of the model finishes with a LogSoftMax call, the results are not normalized - they do not lie between 0 and 1.\n",
    "2. `ignore_class`: This indicates which class should be ignored when computing the crossentropy. Remember that the class related to padding value is set to be 0.\n"
   ]
  },
  {
   "cell_type": "code",
   "execution_count": 16,
   "metadata": {},
   "outputs": [],
   "source": [
    "class CustomSparseCategoricalCrossentropy(tf.keras.losses.Loss):\n",
    "    def __init__(self, from_logits=False, ignore_class=-1):\n",
    "        super().__init__()\n",
    "        self.from_logits = from_logits\n",
    "        self.ignore_class = ignore_class\n",
    "\n",
    "    def call(self, y_true, y_pred):\n",
    "        # Ensure inputs are tensors\n",
    "        y_true = tf.convert_to_tensor(y_true)\n",
    "        y_pred = tf.convert_to_tensor(y_pred)\n",
    "\n",
    "        # Generate a mask that is False where y_true equals ignore_class and True elsewhere\n",
    "        mask = tf.not_equal(y_true, self.ignore_class)\n",
    "\n",
    "        # Use this mask to filter out ignored values from y_true and y_pred\n",
    "        y_true_filtered = tf.boolean_mask(y_true, mask)\n",
    "        y_pred_filtered = tf.boolean_mask(y_pred, mask)\n",
    "\n",
    "        # Compute the sparse categorical crossentropy on filtered targets and predictions\n",
    "        loss = tf.keras.losses.sparse_categorical_crossentropy(\n",
    "            y_true_filtered, y_pred_filtered, from_logits=self.from_logits\n",
    "        )\n",
    "\n",
    "        # Return the mean loss value\n",
    "        return tf.reduce_mean(loss)\n",
    "\n",
    "\n",
    "def masked_loss(y_true, y_pred):\n",
    "    \"\"\"\n",
    "    Calculate the masked sparse categorical cross-entropy loss.\n",
    "\n",
    "    Parameters:\n",
    "    y_true (tensor): True labels.\n",
    "    y_pred (tensor): Predicted logits.\n",
    "\n",
    "    Returns:\n",
    "    loss (tensor): Calculated loss.\n",
    "    \"\"\"\n",
    "\n",
    "    # Calculate the loss for each item in the batch. Remember to pass the right arguments, as discussed above!\n",
    "    loss_fn = CustomSparseCategoricalCrossentropy(from_logits=True, ignore_class=-1)\n",
    "    # Use the previous defined function to compute the loss\n",
    "    loss = loss_fn(y_true, y_pred)\n",
    "\n",
    "    return loss"
   ]
  },
  {
   "cell_type": "code",
   "execution_count": null,
   "metadata": {},
   "outputs": [],
   "source": [
    "def masked_accuracy(y_true, y_pred):\n",
    "    \"\"\"\n",
    "    Calculate masked accuracy for predicted labels.\n",
    "\n",
    "    Parameters:\n",
    "    y_true (tensor): True labels.\n",
    "    y_pred (tensor): Predicted logits.\n",
    "\n",
    "    Returns:\n",
    "    accuracy (tensor): Masked accuracy.\n",
    "    \"\"\"\n",
    "\n",
    "    # Calculate the loss for each item in the batch.\n",
    "    # We must always cast the tensors to the same type in order to use them in training. Since we will make divisions, it is safe to use tf.float32 data type.\n",
    "    y_true = tf.cast(y_true, tf.float32)\n",
    "    # Create the mask, i.e., the values that will be ignored\n",
    "    mask = tf.not_equal(y_true, -1.0)\n",
    "\n",
    "    mask = tf.cast(mask, tf.float32)\n",
    "\n",
    "    # Perform argmax to get the predicted values\n",
    "    y_pred_class = tf.math.argmax(y_pred, axis=-1)\n",
    "    y_pred_class = tf.cast(y_pred_class, tf.float32)\n",
    "    # Compare the true values with the predicted ones\n",
    "    matches_true_pred = tf.equal(y_true, y_pred_class)\n",
    "    matches_true_pred = tf.cast(matches_true_pred, tf.float32)\n",
    "    # Multiply the acc tensor with the masks\n",
    "    matches_true_pred *= mask\n",
    "    # Compute masked accuracy (quotient between the total matches and the total valid values, i.e., the amount of non-masked values)\n",
    "    masked_acc = tf.reduce_sum(matches_true_pred) / tf.reduce_sum(mask)\n",
    "\n",
    "    return masked_acc"
   ]
  },
  {
   "cell_type": "code",
   "execution_count": 18,
   "metadata": {},
   "outputs": [],
   "source": [
    "lstm.compile(\n",
    "    optimizer=tf.keras.optimizers.Adam(0.01),\n",
    "    loss=masked_loss,\n",
    "    metrics=[masked_accuracy],\n",
    ")"
   ]
  },
  {
   "cell_type": "code",
   "execution_count": 19,
   "metadata": {},
   "outputs": [
    {
     "name": "stdout",
     "output_type": "stream",
     "text": [
      "Epoch 1/10\n",
      "matches_true_pred before Tensor(\"Cast_4:0\", shape=(None, 30), dtype=float32)\n",
      "matches_true_pred Tensor(\"mul_1:0\", shape=(None, 30), dtype=float32)\n",
      "matches_true_pred before Tensor(\"Cast_4:0\", shape=(None, 30), dtype=float32)\n",
      "matches_true_pred Tensor(\"mul_1:0\", shape=(None, 30), dtype=float32)\n",
      "\u001b[1m135/137\u001b[0m \u001b[32m━━━━━━━━━━━━━━━━━━━\u001b[0m\u001b[37m━\u001b[0m \u001b[1m0s\u001b[0m 6ms/step - loss: 0.3704 - masked_accuracy: 0.8676matches_true_pred before Tensor(\"Cast_4:0\", shape=(None, 30), dtype=float32)\n",
      "matches_true_pred Tensor(\"mul_1:0\", shape=(None, 30), dtype=float32)\n",
      "\u001b[1m137/137\u001b[0m \u001b[32m━━━━━━━━━━━━━━━━━━━━\u001b[0m\u001b[37m\u001b[0m \u001b[1m2s\u001b[0m 8ms/step - loss: 0.3659 - masked_accuracy: 0.8692 - val_loss: 0.0339 - val_masked_accuracy: 0.9890\n",
      "Epoch 2/10\n",
      "\u001b[1m137/137\u001b[0m \u001b[32m━━━━━━━━━━━━━━━━━━━━\u001b[0m\u001b[37m\u001b[0m \u001b[1m1s\u001b[0m 8ms/step - loss: 0.0321 - masked_accuracy: 0.9895 - val_loss: 0.0260 - val_masked_accuracy: 0.9907\n",
      "Epoch 3/10\n",
      "\u001b[1m137/137\u001b[0m \u001b[32m━━━━━━━━━━━━━━━━━━━━\u001b[0m\u001b[37m\u001b[0m \u001b[1m1s\u001b[0m 7ms/step - loss: 0.0179 - masked_accuracy: 0.9939 - val_loss: 0.0291 - val_masked_accuracy: 0.9899\n"
     ]
    },
    {
     "data": {
      "text/plain": [
       "<keras.src.callbacks.history.History at 0x296a96510>"
      ]
     },
     "execution_count": 19,
     "metadata": {},
     "output_type": "execute_result"
    }
   ],
   "source": [
    "lstm.fit(\n",
    "    train_dataset.batch(64),\n",
    "    validation_data=test_dataset.batch(64),\n",
    "    epochs=10,\n",
    "    shuffle=True,\n",
    "    callbacks=[\n",
    "        tf.keras.callbacks.EarlyStopping(\n",
    "            monitor=\"val_loss\", min_delta=0.001, restore_best_weights=True\n",
    "        )\n",
    "    ],\n",
    ")"
   ]
  },
  {
   "cell_type": "code",
   "execution_count": 102,
   "metadata": {},
   "outputs": [],
   "source": [
    "eval_sentences, eval_labels, _, __ = dp.from_bio_file_to_examples(\n",
    "    \"./data/bio/fr.bio/1k_new_samples.bio\"\n",
    ")\n",
    "\n",
    "processed_eval_sentences = []\n",
    "processed_eval_labels = []\n",
    "\n",
    "for sentence, label in zip(eval_sentences, eval_labels):\n",
    "    sentence, label = dp.process_sentence(\n",
    "        sentence, stemming=True, return_tokens=True, labels_to_adapt=label\n",
    "    )\n",
    "    processed_eval_sentences.append(sentence)\n",
    "    processed_eval_labels.append(label)"
   ]
  },
  {
   "cell_type": "code",
   "execution_count": 103,
   "metadata": {},
   "outputs": [
    {
     "name": "stdout",
     "output_type": "stream",
     "text": [
      "\u001b[1m30/30\u001b[0m \u001b[32m━━━━━━━━━━━━━━━━━━━━\u001b[0m\u001b[37m\u001b[0m \u001b[1m0s\u001b[0m 2ms/step \n"
     ]
    }
   ],
   "source": [
    "encoded_eval_sentences = [\n",
    "    encode_and_pad_sentence(sentence, vocab) for sentence in processed_eval_sentences\n",
    "]\n",
    "padded_labels = tf.keras.preprocessing.sequence.pad_sequences(\n",
    "    processed_eval_labels, maxlen=MAX_LEN, padding=\"post\", value=-1\n",
    ")\n",
    "\n",
    "encoded_eval_sentences = tf.convert_to_tensor(encoded_eval_sentences)\n",
    "\n",
    "eval_predictions = lstm.predict(encoded_eval_sentences)"
   ]
  },
  {
   "cell_type": "code",
   "execution_count": 104,
   "metadata": {},
   "outputs": [
    {
     "data": {
      "text/plain": [
       "<tf.Tensor: shape=(), dtype=float32, numpy=0.8758099>"
      ]
     },
     "execution_count": 104,
     "metadata": {},
     "output_type": "execute_result"
    }
   ],
   "source": [
    "masked_accuracy(padded_labels, eval_predictions)"
   ]
  },
  {
   "cell_type": "code",
   "execution_count": 105,
   "metadata": {},
   "outputs": [],
   "source": [
    "import seaborn as sns\n",
    "\n",
    "\n",
    "def confusion_matrix(y_true, y_pred, unique_labels):\n",
    "    \"\"\"\n",
    "    Calculate the confusion matrix for the model's predictions.\n",
    "\n",
    "    Parameters:\n",
    "    y_true (tensor): True labels.\n",
    "    y_pred (tensor): Predicted logits.\n",
    "    unique_labels (list): List of unique labels.\n",
    "    \"\"\"\n",
    "\n",
    "    # Perform argmax to get the predicted values\n",
    "    y_pred_class = tf.math.argmax(y_pred, axis=-1)\n",
    "    # Cast the tensors to float32\n",
    "    y_true = tf.cast(y_true, tf.float32)\n",
    "    y_pred_class = tf.cast(y_pred_class, tf.float32)\n",
    "    # Create the mask, i.e., the values that will be ignored\n",
    "    mask = tf.not_equal(y_true, -1.0)\n",
    "    mask = tf.cast(mask, tf.float32)\n",
    "    # Multiply the true values by the mask\n",
    "    y_true *= mask\n",
    "    # Multiply the predicted values by the mask\n",
    "    y_pred_class *= mask\n",
    "\n",
    "    # Flattening to match the confusion matrix function signature\n",
    "    y_true_flat = tf.reshape(y_true, [-1])\n",
    "    y_pred_class_flat = tf.reshape(y_pred_class, [-1])\n",
    "    mask_flat = tf.reshape(mask, [-1])\n",
    "\n",
    "    # Compute the confusion matrix\n",
    "    cm = tf.math.confusion_matrix(y_true_flat, y_pred_class_flat, weights=mask_flat)\n",
    "\n",
    "    cm_normalized = tf.math.divide_no_nan(cm, tf.reduce_sum(cm, axis=1, keepdims=True))\n",
    "\n",
    "    plt.figure(figsize=(10, 7))\n",
    "\n",
    "    ax = sns.heatmap(cm_normalized, annot=True, cmap=\"Blues\")\n",
    "\n",
    "    ax.set_xticklabels(labels=unique_labels, rotation=45)\n",
    "    ax.set_yticklabels(labels=unique_labels, rotation=45)\n",
    "\n",
    "    plt.xlabel(\"Predicted labels\")\n",
    "    plt.ylabel(\"True labels\")\n",
    "    plt.title(\"Confusion matrix\")\n",
    "\n",
    "    plt.show()"
   ]
  },
  {
   "cell_type": "code",
   "execution_count": 106,
   "metadata": {},
   "outputs": [
    {
     "data": {
      "image/png": "[encoded data removed]",
      "text/plain": [
       "<Figure size 1000x700 with 2 Axes>"
      ]
     },
     "metadata": {},
     "output_type": "display_data"
    }
   ],
   "source": [
    "confusion_matrix(padded_labels, eval_predictions, unique_labels)"
   ]
  },
  {
   "cell_type": "code",
   "execution_count": 116,
   "metadata": {},
   "outputs": [],
   "source": [
    "def predict(\n",
    "    sentence: str,\n",
    "    model: tf.keras.Model,\n",
    "    vocab: list[str] = vocab,\n",
    "    max_len: int = MAX_LEN,\n",
    "):\n",
    "    \"\"\"\n",
    "    Predict the labels for a given sentence.\n",
    "\n",
    "    Parameters:\n",
    "    sentence (str): The sentence to predict.\n",
    "    model (tf.keras.Model): The trained model.\n",
    "    vocab (list): The vocabulary.\n",
    "    max_len (int): The maximum length of the sentence.\n",
    "\n",
    "    Returns:\n",
    "    list: The predicted labels.\n",
    "    \"\"\"\n",
    "    processed_sentence = dp.process_sentence(\n",
    "        sentence, stemming=True, return_tokens=True\n",
    "    )\n",
    "\n",
    "    unstemmed_sentence = dp.process_sentence(\n",
    "        sentence, stemming=False, return_tokens=True\n",
    "    )\n",
    "\n",
    "    encoded_sentence = encode_and_pad_sentence(processed_sentence, vocab, max_len)\n",
    "\n",
    "    prediction = model.predict(tf.convert_to_tensor([encoded_sentence]))\n",
    "\n",
    "    for word, label in zip(\n",
    "        unstemmed_sentence, tf.math.argmax(prediction, axis=-1)[0].numpy()\n",
    "    ):\n",
    "        print(f\"{word}: {list(unique_labels.keys())[label]}\")\n",
    "\n",
    "    return prediction"
   ]
  },
  {
   "cell_type": "code",
   "execution_count": 120,
   "metadata": {},
   "outputs": [
    {
     "name": "stdout",
     "output_type": "stream",
     "text": [
      "\u001b[1m1/1\u001b[0m \u001b[32m━━━━━━━━━━━━━━━━━━━━\u001b[0m\u001b[37m\u001b[0m \u001b[1m0s\u001b[0m 12ms/step\n",
      "Je: O\n",
      "veux: O\n",
      "aller: O\n",
      "Paris: LOC-ARR\n",
      "train: O\n",
      "Montpellier: LOC-DEP\n"
     ]
    }
   ],
   "source": [
    "test_sentence = \"Je veux aller à Paris en train de Montpellier\"\n",
    "\n",
    "test_pred = predict(test_sentence, lstm)"
   ]
  }
 ],
 "metadata": {
  "kernelspec": {
   "display_name": "venv",
   "language": "python",
   "name": "python3"
  },
  "language_info": {
   "codemirror_mode": {
    "name": "ipython",
    "version": 3
   },
   "file_extension": ".py",
   "mimetype": "text/x-python",
   "name": "python",
   "nbconvert_exporter": "python",
   "pygments_lexer": "ipython3",
   "version": "3.12.4"
  }
 },
 "nbformat": 4,
 "nbformat_minor": 2
}
